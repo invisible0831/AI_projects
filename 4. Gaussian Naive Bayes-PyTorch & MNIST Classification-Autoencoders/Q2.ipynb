{
 "cells": [
  {
   "cell_type": "markdown",
   "metadata": {
    "id": "d98O4vjubJ3j"
   },
   "source": [
    "<div align=center>\n",
    "\t\t\n",
    "<p></p>\n",
    "<p></p>\n",
    "<font size=5>\n",
    "In the Name of God\n",
    "<font/>\n",
    "<p></p>\n",
    " <br/>\n",
    "    <br/>\n",
    "    <br/>\n",
    "<font color=#FF7500>\n",
    "Sharif University of Technology - Departmenet of Computer Engineering\n",
    "</font>\n",
    "<p></p>\n",
    "<font color=blue>\n",
    "Artifical Intelligence - Dr. Mohammad Hossein Rohban\n",
    "</font>\n",
    "<br/>\n",
    "<br/>\n",
    "Fall 2021\n",
    "\n",
    "</div>\n",
    "\n",
    "<hr/>\n",
    "\t\t<div align=center>\n",
    "\t\t    <font color=red size=6>\n",
    "\t\t\t    <br />\n",
    "Practical Assignment 4 Pytorch Classification\n",
    "            \t<br/>\n",
    "\t\t\t</font>\n",
    "    <br/>\n",
    "    <br/>\n",
    "<font size=4>\n",
    "                <br/><b>\n",
    "              Cheating is Strongly Prohibited\n",
    "                </b><br/><br/>\n",
    "                <font color=red>\n",
    "Please run all the cells.\n",
    "     </font>\n",
    "</font>\n",
    "                <br/>\n",
    "    </div>"
   ]
  },
  {
   "cell_type": "markdown",
   "metadata": {
    "id": "Vc56RQq_bJ3p"
   },
   "source": [
    "# Personal Data"
   ]
  },
  {
   "cell_type": "code",
   "execution_count": 3,
   "metadata": {
    "collectable": true,
    "execution": {
     "iopub.execute_input": "2021-10-01T16:01:36.762477Z",
     "iopub.status.busy": "2021-10-01T16:01:36.762155Z",
     "iopub.status.idle": "2021-10-01T16:01:36.764025Z",
     "shell.execute_reply": "2021-10-01T16:01:36.763754Z"
    },
    "id": "tODT3Ai9bJ3q"
   },
   "outputs": [],
   "source": [
    "# Set your student number\n",
    "student_number = 98109837\n",
    "Name = 'Amirreza'\n",
    "Last_Name = 'Soleimanbeigi'"
   ]
  },
  {
   "cell_type": "markdown",
   "metadata": {
    "id": "j36cYwxIbJ3r"
   },
   "source": [
    "# Rules\n",
    "- You **are** allowed to add or remove cells. \n",
    "- By running the cell below, you can see if your jupyter file is accepted or not. This cell will also **generate a python file which you'll have to upload to Quera** (as well as your jupyter file). The python file will later be validated and if the code in both files doesn't match, **your Practical Assignment won't be graded**."
   ]
  },
  {
   "cell_type": "code",
   "execution_count": 4,
   "metadata": {
    "colab": {
     "base_uri": "https://localhost:8080/",
     "height": 374
    },
    "id": "MxF-SCt7bJ3s",
    "outputId": "10210290-69da-4c85-b67b-237be4a248e7"
   },
   "outputs": [
    {
     "name": "stdout",
     "output_type": "stream",
     "text": [
      "your file will be graded\n"
     ]
    }
   ],
   "source": [
    "# remember to save your jupyter file before running this script\n",
    "from Helper_codes.validator import *\n",
    "\n",
    "python_code = extract_python(\"./Q2.ipynb\")\n",
    "with open(f'python_code_Q2_{student_number}.py', 'w') as file:\n",
    "    file.write(python_code)"
   ]
  },
  {
   "cell_type": "markdown",
   "metadata": {
    "id": "Fa1McbDhbJ3s"
   },
   "source": [
    "# PyTorch & MNIST Classification (50 points+5 Extra)"
   ]
  },
  {
   "cell_type": "markdown",
   "metadata": {
    "id": "sSeuI5X2bJ3t"
   },
   "source": [
    "<font size=4>\n",
    "Author: Arman Zarei\n",
    "\t\t\t<br/>\n",
    "                <font color=red>\n",
    "Please run all the cells.\n",
    "     </font>\n",
    "</font>\n",
    "                <br/>\n",
    "    </div>"
   ]
  },
  {
   "cell_type": "markdown",
   "metadata": {
    "id": "hpgcA5aVbhvr"
   },
   "source": [
    "In this assignment, you are going to learn the fundamentals of PyTorch and implement a classifier network for MNIST dataset. You can read about more details of PyTorch components from [this link](https://pytorch.org/tutorials)."
   ]
  },
  {
   "cell_type": "markdown",
   "metadata": {
    "id": "eWerEtmwcjDW"
   },
   "source": [
    "### Setup"
   ]
  },
  {
   "cell_type": "code",
   "execution_count": 3,
   "metadata": {
    "id": "WB1qWR7ycyhk"
   },
   "outputs": [],
   "source": [
    "import torch\n",
    "from torchvision import datasets\n",
    "import matplotlib.pyplot as plt\n",
    "import torchvision.transforms as transforms\n",
    "import os\n",
    "from torch.utils.data import Dataset, DataLoader, random_split\n",
    "import torch.nn as nn\n",
    "import torch.nn.functional as F\n",
    "from ae_helper import init_mnist_subset_directories"
   ]
  },
  {
   "cell_type": "code",
   "execution_count": 4,
   "metadata": {
    "colab": {
     "base_uri": "https://localhost:8080/"
    },
    "id": "Xl50MioBdFpk",
    "outputId": "f08d4aa9-8673-4fd4-b563-e476dff0c10d"
   },
   "outputs": [
    {
     "data": {
      "text/plain": [
       "device(type='cuda')"
      ]
     },
     "execution_count": 4,
     "metadata": {},
     "output_type": "execute_result"
    }
   ],
   "source": [
    "device = torch.device('cuda' if torch.cuda.is_available() else 'cpu')\n",
    "device"
   ]
  },
  {
   "cell_type": "markdown",
   "metadata": {
    "id": "wx59hwkqj0RD"
   },
   "source": [
    "#### Loading dataset"
   ]
  },
  {
   "cell_type": "code",
   "execution_count": 5,
   "metadata": {
    "colab": {
     "base_uri": "https://localhost:8080/",
     "height": 423,
     "referenced_widgets": [
      "0c8f8965911949e292c194356ef7d8fe",
      "d06a605b17414f0c9941bd325ae801fc",
      "c9d52b70e2b34304934a1011fe5bfe84",
      "a2d0fb33e1c7437388a7c8d90a68e581",
      "7225cd8d6f6143bda5bc1d65a2a76ce2",
      "defaf7b4f4e3440493d1d5265ea0ccc7",
      "a02e6ce403264acd86102336c3c68f23",
      "5724707286c941e1bbfd768a13ca22ea",
      "2db4151f7ad24b11a7914383acadcf41",
      "09a2c3c9822c4082910c25c64be76261",
      "f85f67bc39a7418dad6f9c48fe044d8f",
      "08cac9a55e594236bf634e61713a2923",
      "db71282f9d2c4666b0bb8313baaf8f3c",
      "d89f657250c54c999c7c725a81e11a89",
      "ed2b26f573c943adace0a8bbde546e49",
      "c2bbb7bc6e3a499fb7ecc3b7edb3cce0",
      "7ef8bb832413449291d18f36eaacd74e",
      "600c27d7557a45b3b8ce5008f14d4c96",
      "18b941bc72964bc8b293fd6118f58d31",
      "4458aee0f7ef4d4380d231a67210161f",
      "7e323c70bfd54044b7eda253a9c66b0e",
      "bff63eae64364904b553801bac58163d",
      "289f941a950744b194535afc0763fd55",
      "0ccffbda7d6444238f9a323ebc394ee3",
      "cf43420a5c4744388350d9f25e01c077",
      "bac88f8e50f84c44a2f845d6c8a68be5",
      "f5908f004345405e804b856b2a8a9043",
      "a8688e1cdbe54d139294f1cf08db5ac8",
      "f5f031f56c4c4a0a82245c349a165a96",
      "f0508ca29b5a46299bb1a6d07583d4d8",
      "f93bb3ccbe864cc8a4dcae3c142b8fef",
      "cba7e0cb52c64c3fab75c6bfa03d8c18",
      "da3ccdc5b7b148b3b7d7eb684a78b869",
      "de236e46e66e434682b6ae3a39ba0a6f",
      "3dec797015b349b882888e2fdc6bc3dc",
      "b5fa2a0ec3b74a5c896660b37aa2a771",
      "e21afbcae6644945845db5813dedfe8c",
      "f7d5e02f171644abb476330d32ac23af",
      "7901149ead7f4557b19b6adba3d2ea0d",
      "9ef0bc845039493c930917ac63627ca2",
      "8744879b7ca5447eb95716e4d5ae8c0a",
      "d5bde2f6d6934609bed08f7131180be8",
      "d30ec3f0469b40158b8c3d88dd17d066",
      "52c2bdc85404475897a1957fe9451d6f"
     ]
    },
    "id": "YDdS3sikj1xB",
    "outputId": "bd707118-332b-4288-88b6-0611220dec97"
   },
   "outputs": [
    {
     "name": "stdout",
     "output_type": "stream",
     "text": [
      "Downloading http://yann.lecun.com/exdb/mnist/train-images-idx3-ubyte.gz\n",
      "Downloading http://yann.lecun.com/exdb/mnist/train-images-idx3-ubyte.gz to data/MNIST/raw/train-images-idx3-ubyte.gz\n"
     ]
    },
    {
     "data": {
      "application/vnd.jupyter.widget-view+json": {
       "model_id": "0c8f8965911949e292c194356ef7d8fe",
       "version_major": 2,
       "version_minor": 0
      },
      "text/plain": [
       "  0%|          | 0/9912422 [00:00<?, ?it/s]"
      ]
     },
     "metadata": {},
     "output_type": "display_data"
    },
    {
     "name": "stdout",
     "output_type": "stream",
     "text": [
      "Extracting data/MNIST/raw/train-images-idx3-ubyte.gz to data/MNIST/raw\n",
      "\n",
      "Downloading http://yann.lecun.com/exdb/mnist/train-labels-idx1-ubyte.gz\n",
      "Downloading http://yann.lecun.com/exdb/mnist/train-labels-idx1-ubyte.gz to data/MNIST/raw/train-labels-idx1-ubyte.gz\n"
     ]
    },
    {
     "data": {
      "application/vnd.jupyter.widget-view+json": {
       "model_id": "08cac9a55e594236bf634e61713a2923",
       "version_major": 2,
       "version_minor": 0
      },
      "text/plain": [
       "  0%|          | 0/28881 [00:00<?, ?it/s]"
      ]
     },
     "metadata": {},
     "output_type": "display_data"
    },
    {
     "name": "stdout",
     "output_type": "stream",
     "text": [
      "Extracting data/MNIST/raw/train-labels-idx1-ubyte.gz to data/MNIST/raw\n",
      "\n",
      "Downloading http://yann.lecun.com/exdb/mnist/t10k-images-idx3-ubyte.gz\n",
      "Downloading http://yann.lecun.com/exdb/mnist/t10k-images-idx3-ubyte.gz to data/MNIST/raw/t10k-images-idx3-ubyte.gz\n"
     ]
    },
    {
     "data": {
      "application/vnd.jupyter.widget-view+json": {
       "model_id": "289f941a950744b194535afc0763fd55",
       "version_major": 2,
       "version_minor": 0
      },
      "text/plain": [
       "  0%|          | 0/1648877 [00:00<?, ?it/s]"
      ]
     },
     "metadata": {},
     "output_type": "display_data"
    },
    {
     "name": "stdout",
     "output_type": "stream",
     "text": [
      "Extracting data/MNIST/raw/t10k-images-idx3-ubyte.gz to data/MNIST/raw\n",
      "\n",
      "Downloading http://yann.lecun.com/exdb/mnist/t10k-labels-idx1-ubyte.gz\n",
      "Downloading http://yann.lecun.com/exdb/mnist/t10k-labels-idx1-ubyte.gz to data/MNIST/raw/t10k-labels-idx1-ubyte.gz\n"
     ]
    },
    {
     "data": {
      "application/vnd.jupyter.widget-view+json": {
       "model_id": "de236e46e66e434682b6ae3a39ba0a6f",
       "version_major": 2,
       "version_minor": 0
      },
      "text/plain": [
       "  0%|          | 0/4542 [00:00<?, ?it/s]"
      ]
     },
     "metadata": {},
     "output_type": "display_data"
    },
    {
     "name": "stdout",
     "output_type": "stream",
     "text": [
      "Extracting data/MNIST/raw/t10k-labels-idx1-ubyte.gz to data/MNIST/raw\n",
      "\n"
     ]
    }
   ],
   "source": [
    "mnist_dataset = datasets.MNIST(root='data', train=True, download=True, transform=transforms.ToTensor())"
   ]
  },
  {
   "cell_type": "markdown",
   "metadata": {
    "id": "USPO44OldQSB"
   },
   "source": [
    "## Autograd"
   ]
  },
  {
   "cell_type": "markdown",
   "metadata": {
    "id": "UZ3MTvqldpmz"
   },
   "source": [
    "Autograd is PyTorch's automatic differentiation engine that powers neural network training. In essence it helps us to calculate derivatives and updating parameters. To read more about Autograd and Computational Graph visit [this link](https://pytorch.org/tutorials/beginner/blitz/autograd_tutorial.html)\n",
    "\n",
    "Let us define two parameters: $p_1$ and $p_2$. "
   ]
  },
  {
   "cell_type": "code",
   "execution_count": 6,
   "metadata": {
    "id": "fyMHSBA7eg1P"
   },
   "outputs": [],
   "source": [
    "p1 = torch.tensor([3.], requires_grad=True)\n",
    "p2 = torch.tensor([7.], requires_grad=True)"
   ]
  },
  {
   "cell_type": "markdown",
   "metadata": {
    "id": "3clMbGmyesLk"
   },
   "source": [
    "Now define a variable $L$ as below:\n",
    "\n",
    "$L = 3 \\times p_1^3 - 7 \\times p_2^2 + sin(p1) \\times p_2^2$"
   ]
  },
  {
   "cell_type": "code",
   "execution_count": 7,
   "metadata": {
    "colab": {
     "base_uri": "https://localhost:8080/"
    },
    "collectable": true,
    "id": "Q6Rf3tc5bJ3u",
    "outputId": "71595db0-206a-4e65-e916-554b47e6e1bd"
   },
   "outputs": [
    {
     "data": {
      "text/plain": [
       "tensor([-255.0851], grad_fn=<AddBackward0>)"
      ]
     },
     "execution_count": 7,
     "metadata": {},
     "output_type": "execute_result"
    }
   ],
   "source": [
    "# Place your code here (2.5 Points)\n",
    "## Hint: You can use torch.sin for calculation of sin(p1)\n",
    "L = 3 * p1**3 - 7 * p2**2 + torch.sin(p1) * p2**2\n",
    "L"
   ]
  },
  {
   "cell_type": "markdown",
   "metadata": {
    "id": "yVEaM66zfI_r"
   },
   "source": [
    "Now you have to calculate the gradient of $p_1$ and $p_2$ with respect to $L$. First do it by hand and write the mathematical expression in the below cell both for $p_1$ and $p_2$. Then evaluate them at $3$ and $7$ (acording to the initialization)"
   ]
  },
  {
   "cell_type": "markdown",
   "metadata": {
    "id": "6AK61RzngBya"
   },
   "source": [
    "Place your expressions here **(2.5 Points)**\n",
    "\n",
    "\n",
    "$\\frac{dL}{dp_1} = 9 \\times p_1^2 + \\cos (p_1) \\times p_2^2 $ \n",
    "\n",
    "$\\frac{dL}{dp_2} = -14 \\times p_2 + 2 \\times \\sin (p_1) \\times p_2$\n",
    "\n",
    "$\\frac{dL}{dp_1}(3, 7) = 32.4904$\n",
    "\n",
    "$\\frac{dL}{dp_2}(3, 7) = -96.0243$"
   ]
  },
  {
   "cell_type": "code",
   "execution_count": 8,
   "metadata": {
    "colab": {
     "base_uri": "https://localhost:8080/"
    },
    "id": "H8J9pEWYhQ7-",
    "outputId": "d7231470-d2a2-4c86-9718-da90b76f02c0"
   },
   "outputs": [
    {
     "data": {
      "text/plain": [
       "(tensor([32.4904], grad_fn=<AddBackward0>),\n",
       " tensor([-96.0243], grad_fn=<AddBackward0>))"
      ]
     },
     "execution_count": 8,
     "metadata": {},
     "output_type": "execute_result"
    }
   ],
   "source": [
    "# Place your code here (optional)\n",
    "## For calculation of dL/dp in the given point\n",
    "dL_dp1 = 9 * p1**2 + torch.cos(p1) * p2**2\n",
    "dL_dp2 = -14 * p2 + 2 * torch.sin(p1) * p2\n",
    "dL_dp1, dL_dp2"
   ]
  },
  {
   "cell_type": "markdown",
   "metadata": {
    "id": "vfnbUWe9jDN_"
   },
   "source": [
    "Now let's calculate this using pytorch. The below code will construct the computational graph and stores the gradient of each variable inside of it."
   ]
  },
  {
   "cell_type": "code",
   "execution_count": 9,
   "metadata": {
    "id": "JHOUb91BfSLV"
   },
   "outputs": [],
   "source": [
    "L.backward()"
   ]
  },
  {
   "cell_type": "markdown",
   "metadata": {
    "id": "DPlm6Y-WjdqQ"
   },
   "source": [
    "Check whether the result of your calculations is the same with the autograd's output."
   ]
  },
  {
   "cell_type": "code",
   "execution_count": 10,
   "metadata": {
    "colab": {
     "base_uri": "https://localhost:8080/"
    },
    "id": "dTATg0EXfemL",
    "outputId": "854c78de-b065-480e-8f5d-572d6fce7c92"
   },
   "outputs": [
    {
     "name": "stdout",
     "output_type": "stream",
     "text": [
      "P_1 grad: 32.4903678894043\n",
      "P_2 grad: -96.02432250976562\n"
     ]
    }
   ],
   "source": [
    "print(f\"P_1 grad: {p1.grad.item()}\\nP_2 grad: {p2.grad.item()}\")"
   ]
  },
  {
   "cell_type": "markdown",
   "metadata": {
    "id": "bnNZl6e6jpqt"
   },
   "source": [
    "## Transform "
   ]
  },
  {
   "cell_type": "markdown",
   "metadata": {
    "id": "LU7tlE9JkdPq"
   },
   "source": [
    "Data does not always come in its final processed form that is required for training machine learning algorithms. We use transforms to perform some manipulation of the data and make it suitable for training. For more details, you can read [this link](https://pytorch.org/vision/stable/transforms.html)\n",
    "\n",
    "There are many transformations that are already implemented inside pytorch that you can use. Here we are going to implement some transformation from scratch using PyTorch's framework."
   ]
  },
  {
   "cell_type": "markdown",
   "metadata": {
    "id": "axRueoKYkrq2"
   },
   "source": [
    "#### Random Horizontal Flip Transformation"
   ]
  },
  {
   "cell_type": "markdown",
   "metadata": {
    "id": "VWJaLIkgl6im"
   },
   "source": [
    "Define a transformation that flips the image (horizontally) with probability of $p$. In order to implement a simple transformation class, you need to have two methods: `__init__` and `__call__` (which receives the image)"
   ]
  },
  {
   "cell_type": "code",
   "execution_count": 11,
   "metadata": {
    "id": "tpVu037dkqGW"
   },
   "outputs": [],
   "source": [
    "class RandomHorizontalFlip(object):\n",
    "    def __init__(self, p=0.5):\n",
    "        # Place your code here (2 Points)\n",
    "        self.p = p\n",
    "  \n",
    "    def __call__(self, x):\n",
    "        # Place your code here (3 Points)\n",
    "        if torch.rand(1) < self.p:\n",
    "            x_size = x.size()[1]\n",
    "            y = torch.zeros(x.size())\n",
    "            for i in range(int(x_size/2)):\n",
    "                y[0, :, i] = x[0, :, x_size-i-1]\n",
    "                y[0, :, x_size-i-1] = x[0, :, i]\n",
    "            return y\n",
    "        return x"
   ]
  },
  {
   "cell_type": "markdown",
   "metadata": {
    "id": "p7kC6zOOmraA"
   },
   "source": [
    "#### Random Color Swap"
   ]
  },
  {
   "cell_type": "markdown",
   "metadata": {
    "id": "LcFPotJVmzha"
   },
   "source": [
    "Now that you have learned how to implement a transformation class, let's build another one. Define a transformation which swaps the colors (in the gray scale image) with probability of $p$. For example, if the given image had a white colored number with a black background, it should output an image with black colored number and a white background.\n",
    "\n",
    "**Hint:** for a given input $x$, you can concider the swapped color version of it as $x_{new} = m - x$ where $m$ is the maximum value in image $x$"
   ]
  },
  {
   "cell_type": "code",
   "execution_count": 12,
   "metadata": {
    "id": "5_4W0QeDmxrZ"
   },
   "outputs": [],
   "source": [
    "# Place your code here (5 Points)\n",
    "class RandomColorSwap(object):\n",
    "    def __init__(self, p=0.5):\n",
    "        self.p = p\n",
    "  \n",
    "    def __call__(self, x):\n",
    "        if torch.rand(1) < self.p:\n",
    "            m = torch.max(x)\n",
    "            m_tensor = torch.full(x.size(), m)\n",
    "            return m_tensor - x\n",
    "        return x"
   ]
  },
  {
   "cell_type": "markdown",
   "metadata": {
    "id": "6sO1GAmQn-D_"
   },
   "source": [
    "### Evaluation of transformations"
   ]
  },
  {
   "cell_type": "markdown",
   "metadata": {
    "id": "gU8dglTeoCSq"
   },
   "source": [
    "Now, let's apply these transformations on some images of our dataset. You can stack different transformation using `Compose`"
   ]
  },
  {
   "cell_type": "code",
   "execution_count": 13,
   "metadata": {
    "id": "HhU0pqttoBC7"
   },
   "outputs": [],
   "source": [
    "trans = transforms.Compose([\n",
    "  RandomHorizontalFlip(p=0.7),\n",
    "  RandomColorSwap()\n",
    "])"
   ]
  },
  {
   "cell_type": "code",
   "execution_count": 14,
   "metadata": {
    "colab": {
     "base_uri": "https://localhost:8080/",
     "height": 280
    },
    "id": "WjTBM5N8oMJQ",
    "outputId": "a0d10ea7-74d6-49c4-b1f3-aabdaa1ccb2b"
   },
   "outputs": [
    {
     "data": {
      "image/png": "[encoded data removed]",
      "text/plain": [
       "<Figure size 1800x360 with 20 Axes>"
      ]
     },
     "metadata": {},
     "output_type": "display_data"
    }
   ],
   "source": [
    "num_imgs = 10\n",
    "fig, axs = plt.subplots(2, num_imgs, figsize=(25, 5))\n",
    "for i, idx in enumerate(torch.randint(0, len(mnist_dataset), [num_imgs])):\n",
    "    x, y = mnist_dataset[idx]\n",
    "    axs[0, i].imshow(x[0], cmap='gray')\n",
    "    axs[1, i].imshow(trans(x)[0], cmap='gray')\n",
    "    for k in range(2):\n",
    "        axs[k, i].set_yticks([])\n",
    "        axs[k, i].set_xticks([])\n",
    "\n",
    "axs[0, 0].set_ylabel(\"Original\")\n",
    "axs[1, 0].set_ylabel(\"Transformed\");"
   ]
  },
  {
   "cell_type": "markdown",
   "metadata": {
    "id": "nrl6OhN_osOd"
   },
   "source": [
    "What we expect to see is that, some of them are fliped horizontally, some swapped in color, and some both."
   ]
  },
  {
   "cell_type": "markdown",
   "metadata": {
    "id": "6f3K_sOxpG3V"
   },
   "source": [
    "## Dataset"
   ]
  },
  {
   "cell_type": "markdown",
   "metadata": {
    "id": "sYh7GBGPpQhU"
   },
   "source": [
    "In this section, we are going to implement a dataset class. Inside `torchvision.datasets` there are many Datasets that are already implemented and ready to use. But, in many situations it's necessary to implement one by your self."
   ]
  },
  {
   "cell_type": "markdown",
   "metadata": {
    "id": "JqQjsiGTrW8l"
   },
   "source": [
    "Run the below cell to initialize our dataset"
   ]
  },
  {
   "cell_type": "code",
   "execution_count": 15,
   "metadata": {
    "colab": {
     "base_uri": "https://localhost:8080/"
    },
    "id": "FztDAwMxrLRx",
    "outputId": "0a2587ea-8db3-423f-eede-25a66c9b387a"
   },
   "outputs": [
    {
     "name": "stderr",
     "output_type": "stream",
     "text": [
      "100%|██████████| 5000/5000 [00:02<00:00, 1944.60it/s]\n"
     ]
    }
   ],
   "source": [
    "dataset_path = \"new_mnist\"\n",
    "init_mnist_subset_directories(mnist_dataset, dataset_path)"
   ]
  },
  {
   "cell_type": "markdown",
   "metadata": {
    "id": "7iYvcVlhrmmk"
   },
   "source": [
    "If you take a look at `new_mnist` directory which is created in the directory you are working in, you see that it contains 10 folders with names from `0` to `9` indicating the label of the images inside it. Inside each, some files with name `data_{number}.pth` exist. Each `.pth` file is an image.\n",
    "\n",
    "Now you have to implement a Dataset on top of these files.\n",
    "The methods that you should implement in a Dataset (as you can see in the code) is as described below:\n",
    "- `__init__`: In our example assume that it only accepts `root_dir` and `transform` as it's parameters (You should apply the transformations before outputing the data)\n",
    "- `__len__`: Should return the number of data in your dataset\n",
    "- `__getitem__`: which receives an index, should return the data at the given index (which is a tuple here, containing image and the corresponding label) "
   ]
  },
  {
   "cell_type": "code",
   "execution_count": 60,
   "metadata": {
    "id": "RixD6z30qt1o"
   },
   "outputs": [],
   "source": [
    "class MNISTDataset(Dataset):\n",
    "    def __init__(self, root_dir, transform):\n",
    "        # Place your code here (4 Points)\n",
    "        ## Hint: Use os.listdir(some_path) to get the list of files\n",
    "        self.root_dir = root_dir\n",
    "        self.transform = transform\n",
    "        self.idx_label = {}\n",
    "        for folder_name in os.listdir(root_dir):\n",
    "            folder_path = os.path.join(root_dir, folder_name)\n",
    "            for image_name in os.listdir(folder_path):\n",
    "                idx = int(image_name[5:len(image_name)-4])\n",
    "                self.idx_label[idx] = folder_name\n",
    "\n",
    "    def __len__(self):\n",
    "        # Place your code here (1 Points)\n",
    "        return len(self.idx_label)\n",
    "\n",
    "    def __getitem__(self, idx):\n",
    "        # Place your code here (3 Points)\n",
    "        ## Return a tuple (image, label)\n",
    "        label = self.idx_label[idx]\n",
    "        image_path = os.path.join(self.root_dir, label, f'data_{idx}.pth') \n",
    "        image = torch.load(image_path)\n",
    "        transformed_image = self.transform(image)\n",
    "        return transformed_image, label"
   ]
  },
  {
   "cell_type": "markdown",
   "metadata": {
    "id": "ObSdu-MwuYJK"
   },
   "source": [
    "After you defined your dataset, let's use it."
   ]
  },
  {
   "cell_type": "code",
   "execution_count": 61,
   "metadata": {
    "colab": {
     "base_uri": "https://localhost:8080/"
    },
    "id": "YctASmSEuiqG",
    "outputId": "6f3d598d-d6bf-4c84-b461-00a47cdee18a"
   },
   "outputs": [
    {
     "data": {
      "text/plain": [
       "5000"
      ]
     },
     "execution_count": 61,
     "metadata": {},
     "output_type": "execute_result"
    }
   ],
   "source": [
    "my_dataset = MNISTDataset(root_dir=dataset_path, transform=RandomColorSwap())\n",
    "len(my_dataset)"
   ]
  },
  {
   "cell_type": "markdown",
   "metadata": {
    "id": "VMTt5b4wvWik"
   },
   "source": [
    "Visualize 10 samples (randomely) from your dataset with their labels"
   ]
  },
  {
   "cell_type": "code",
   "execution_count": 87,
   "metadata": {
    "colab": {
     "base_uri": "https://localhost:8080/",
     "height": 1000
    },
    "id": "nWMmwUvjudSr",
    "outputId": "752ac36d-a3bc-4ca7-8841-ee2b1345e370"
   },
   "outputs": [
    {
     "name": "stdout",
     "output_type": "stream",
     "text": [
      "label: 4\n"
     ]
    },
    {
     "data": {
      "image/png": "[encoded data removed]",
      "text/plain": [
       "<Figure size 432x288 with 1 Axes>"
      ]
     },
     "metadata": {
      "needs_background": "light"
     },
     "output_type": "display_data"
    },
    {
     "name": "stdout",
     "output_type": "stream",
     "text": [
      "label: 7\n"
     ]
    },
    {
     "data": {
      "image/png": "[encoded data removed]",
      "text/plain": [
       "<Figure size 432x288 with 1 Axes>"
      ]
     },
     "metadata": {
      "needs_background": "light"
     },
     "output_type": "display_data"
    },
    {
     "name": "stdout",
     "output_type": "stream",
     "text": [
      "label: 7\n"
     ]
    },
    {
     "data": {
      "image/png": "[encoded data removed]",
      "text/plain": [
       "<Figure size 432x288 with 1 Axes>"
      ]
     },
     "metadata": {
      "needs_background": "light"
     },
     "output_type": "display_data"
    },
    {
     "name": "stdout",
     "output_type": "stream",
     "text": [
      "label: 1\n"
     ]
    },
    {
     "data": {
      "image/png": "[encoded data removed]",
      "text/plain": [
       "<Figure size 432x288 with 1 Axes>"
      ]
     },
     "metadata": {
      "needs_background": "light"
     },
     "output_type": "display_data"
    },
    {
     "name": "stdout",
     "output_type": "stream",
     "text": [
      "label: 4\n"
     ]
    },
    {
     "data": {
      "image/png": "[encoded data removed]",
      "text/plain": [
       "<Figure size 432x288 with 1 Axes>"
      ]
     },
     "metadata": {
      "needs_background": "light"
     },
     "output_type": "display_data"
    },
    {
     "name": "stdout",
     "output_type": "stream",
     "text": [
      "label: 4\n"
     ]
    },
    {
     "data": {
      "image/png": "[encoded data removed]",
      "text/plain": [
       "<Figure size 432x288 with 1 Axes>"
      ]
     },
     "metadata": {
      "needs_background": "light"
     },
     "output_type": "display_data"
    },
    {
     "name": "stdout",
     "output_type": "stream",
     "text": [
      "label: 0\n"
     ]
    },
    {
     "data": {
      "image/png": "[encoded data removed]",
      "text/plain": [
       "<Figure size 432x288 with 1 Axes>"
      ]
     },
     "metadata": {
      "needs_background": "light"
     },
     "output_type": "display_data"
    },
    {
     "name": "stdout",
     "output_type": "stream",
     "text": [
      "label: 7\n"
     ]
    },
    {
     "data": {
      "image/png": "[encoded data removed]",
      "text/plain": [
       "<Figure size 432x288 with 1 Axes>"
      ]
     },
     "metadata": {
      "needs_background": "light"
     },
     "output_type": "display_data"
    },
    {
     "name": "stdout",
     "output_type": "stream",
     "text": [
      "label: 6\n"
     ]
    },
    {
     "data": {
      "image/png": "[encoded data removed]",
      "text/plain": [
       "<Figure size 432x288 with 1 Axes>"
      ]
     },
     "metadata": {
      "needs_background": "light"
     },
     "output_type": "display_data"
    },
    {
     "name": "stdout",
     "output_type": "stream",
     "text": [
      "label: 3\n"
     ]
    },
    {
     "data": {
      "image/png": "[encoded data removed]",
      "text/plain": [
       "<Figure size 432x288 with 1 Axes>"
      ]
     },
     "metadata": {
      "needs_background": "light"
     },
     "output_type": "display_data"
    }
   ],
   "source": [
    "# Place your code here (2 Points)\n",
    "num_imgs = 10\n",
    "for index in torch.randint(0, len(my_dataset), [num_imgs]):\n",
    "    image, label = my_dataset[int(index)]\n",
    "    print(f'label: {label}')\n",
    "    plt.imshow(image[0], cmap='gray')\n",
    "    plt.show()"
   ]
  },
  {
   "cell_type": "markdown",
   "metadata": {
    "id": "qKWNRCGuwDpf"
   },
   "source": [
    "## MNIST Classification"
   ]
  },
  {
   "cell_type": "markdown",
   "metadata": {
    "id": "DQ8QfxCnzESu"
   },
   "source": [
    "### Model\n",
    "Define your model (Based on what you have learned in the workshop). I highly encourage you to try different models with different layers in order to achieve a better accuracy\n",
    "\n",
    "**Notice:** You cannot use convolution layers in your model "
   ]
  },
  {
   "cell_type": "code",
   "execution_count": 228,
   "metadata": {
    "id": "2rpkLTDazDgl"
   },
   "outputs": [],
   "source": [
    "# Place your code here (5 points)\n",
    "class DigitRecognizer(nn.Module):\n",
    "    def __init__(self):\n",
    "        super().__init__()\n",
    "        self.flatten = nn.Flatten()\n",
    "        self.layer1 = nn.Sequential(\n",
    "            nn.Linear(784, 196),\n",
    "            nn.ReLU(),\n",
    "            nn.BatchNorm1d(196)\n",
    "        )\n",
    "        self.layer2 = nn.Sequential(\n",
    "            nn.Linear(196, 49),\n",
    "            nn.ReLU(),\n",
    "            nn.BatchNorm1d(49)\n",
    "        )\n",
    "        self.layer3 = nn.Sequential(\n",
    "            nn.Linear(49, 10),\n",
    "            nn.ReLU()\n",
    "        )\n",
    "    \n",
    "    def forward(self, x: torch.Tensor) -> torch.Tensor:\n",
    "        x = self.flatten(x)\n",
    "        x = self.layer1(x)\n",
    "        x = self.layer2(x)\n",
    "        x = self.layer3(x)\n",
    "        return x\n"
   ]
  },
  {
   "cell_type": "code",
   "execution_count": 229,
   "metadata": {
    "colab": {
     "base_uri": "https://localhost:8080/"
    },
    "id": "rVXXfXBvzwY3",
    "outputId": "373d3a8f-e5b8-45f3-c1cd-37cde074be5b"
   },
   "outputs": [
    {
     "data": {
      "text/plain": [
       "DigitRecognizer(\n",
       "  (flatten): Flatten(start_dim=1, end_dim=-1)\n",
       "  (layer1): Sequential(\n",
       "    (0): Linear(in_features=784, out_features=196, bias=True)\n",
       "    (1): ReLU()\n",
       "    (2): BatchNorm1d(196, eps=1e-05, momentum=0.1, affine=True, track_running_stats=True)\n",
       "  )\n",
       "  (layer2): Sequential(\n",
       "    (0): Linear(in_features=196, out_features=49, bias=True)\n",
       "    (1): ReLU()\n",
       "    (2): BatchNorm1d(49, eps=1e-05, momentum=0.1, affine=True, track_running_stats=True)\n",
       "  )\n",
       "  (layer3): Sequential(\n",
       "    (0): Linear(in_features=49, out_features=10, bias=True)\n",
       "    (1): ReLU()\n",
       "  )\n",
       ")"
      ]
     },
     "execution_count": 229,
     "metadata": {},
     "output_type": "execute_result"
    }
   ],
   "source": [
    "model = DigitRecognizer().to(device)\n",
    "model"
   ]
  },
  {
   "cell_type": "markdown",
   "metadata": {
    "id": "29ekb8vBz06M"
   },
   "source": [
    "### Dataset and Dataloader"
   ]
  },
  {
   "cell_type": "markdown",
   "metadata": {
    "id": "UIJbRn7C0MXI"
   },
   "source": [
    "Prepare datasets and dataloader for train/test. We use MNIST dataset that is already implemented inside `torchvision.datasets`.\n",
    "\n",
    " You need to split the `mnist_dataset` into `train_dataset` and `val_dataset`. \n",
    " \n",
    " You can also define more transformations that you think it would help the training process **(Optional)**."
   ]
  },
  {
   "cell_type": "code",
   "execution_count": 230,
   "metadata": {
    "id": "u3R0karOQ-Ji"
   },
   "outputs": [],
   "source": [
    "import torchvision.transforms.functional as TF\n",
    "class RandomRotate(object):\n",
    "    def __init__(self, p=0.3):\n",
    "        self.p = p\n",
    "  \n",
    "    def __call__(self, x):\n",
    "        if torch.rand(1) < self.p:\n",
    "            angle = int(torch.randint(-10, 11, (1,)))\n",
    "            return TF.rotate(x, angle)\n",
    "        return x"
   ]
  },
  {
   "cell_type": "code",
   "execution_count": 231,
   "metadata": {
    "id": "OGASwi3AzzZV"
   },
   "outputs": [],
   "source": [
    "transform_compose = transforms.Compose([\n",
    "    transforms.ToTensor(),\n",
    "    # Place your code here\n",
    "    RandomColorSwap(),\n",
    "    RandomRotate()\n",
    "])\n",
    "\n",
    "mnist_dataset = datasets.MNIST(root='dataset', train=True, download=True, transform=transform_compose)\n",
    "# Place your code here (1 points)\n",
    "## Notice: Split mnist_dataset into train_dataset and val_dataset\n",
    "train_size = int(0.9 * len(mnist_dataset))\n",
    "val_size = len(mnist_dataset) - train_size\n",
    "train_dataset, val_dataset = torch.utils.data.random_split(mnist_dataset, (train_size, val_size))\n",
    "# End of block for your code placement\n",
    "test_dataset = datasets.MNIST(root='dataset', train=False, download=True, transform=transforms.ToTensor())\n",
    "\n",
    "train_loader = DataLoader(dataset=train_dataset, batch_size=32, shuffle=True)\n",
    "val_loader = DataLoader(dataset=val_dataset, batch_size=32, shuffle=False)\n",
    "test_loader = DataLoader(dataset=test_dataset, batch_size=32, shuffle=False)"
   ]
  },
  {
   "cell_type": "markdown",
   "metadata": {
    "id": "8_knAsJK1eoL"
   },
   "source": [
    "### Criterion and Optimizer"
   ]
  },
  {
   "cell_type": "markdown",
   "metadata": {
    "id": "hCwVvh7v1mPy"
   },
   "source": [
    "you have to tune the `learning_rate` yourself (Based on your training process)"
   ]
  },
  {
   "cell_type": "code",
   "execution_count": 232,
   "metadata": {
    "id": "3AiRenXy1jJO"
   },
   "outputs": [],
   "source": [
    "criterion = nn.CrossEntropyLoss()\n",
    "learning_rate= 0.000165\n",
    "optimizer = torch.optim.Adam(model.parameters(), lr=learning_rate)"
   ]
  },
  {
   "cell_type": "markdown",
   "metadata": {
    "id": "4c9K1Hlf12UF"
   },
   "source": [
    "### Train your model"
   ]
  },
  {
   "cell_type": "markdown",
   "metadata": {
    "id": "urJ44vOA2Exl"
   },
   "source": [
    "Write your training/validation loop in the following cell for an arbitrary number of epochs (until convergence is detected). You also need to store train/validation loss at each epoch in order to visualize them the after training is done."
   ]
  },
  {
   "cell_type": "code",
   "execution_count": 233,
   "metadata": {
    "colab": {
     "base_uri": "https://localhost:8080/"
    },
    "id": "lyCVVo742PPQ",
    "outputId": "1ea93635-ef16-4ec3-9f55-de811a6dfdad"
   },
   "outputs": [
    {
     "name": "stdout",
     "output_type": "stream",
     "text": [
      "[Epoch 0]\tTrain Loss: 0.7853\tValidation Loss: 0.3432\n",
      "[Epoch 1]\tTrain Loss: 0.3417\tValidation Loss: 0.2701\n",
      "[Epoch 2]\tTrain Loss: 0.2807\tValidation Loss: 0.2112\n",
      "[Epoch 3]\tTrain Loss: 0.2419\tValidation Loss: 0.2091\n",
      "[Epoch 4]\tTrain Loss: 0.2274\tValidation Loss: 0.2352\n",
      "[Epoch 5]\tTrain Loss: 0.2090\tValidation Loss: 0.2174\n",
      "[Epoch 6]\tTrain Loss: 0.1945\tValidation Loss: 0.1587\n",
      "[Epoch 7]\tTrain Loss: 0.1830\tValidation Loss: 0.1504\n",
      "[Epoch 8]\tTrain Loss: 0.1757\tValidation Loss: 0.1602\n",
      "[Epoch 9]\tTrain Loss: 0.1706\tValidation Loss: 0.1531\n",
      "[Epoch 10]\tTrain Loss: 0.1625\tValidation Loss: 0.1581\n",
      "[Epoch 11]\tTrain Loss: 0.1577\tValidation Loss: 0.1531\n",
      "[Epoch 12]\tTrain Loss: 0.1537\tValidation Loss: 0.1416\n",
      "[Epoch 13]\tTrain Loss: 0.1472\tValidation Loss: 0.1525\n",
      "[Epoch 14]\tTrain Loss: 0.1416\tValidation Loss: 0.1851\n",
      "[Epoch 15]\tTrain Loss: 0.1470\tValidation Loss: 0.1446\n",
      "[Epoch 16]\tTrain Loss: 0.1393\tValidation Loss: 0.1461\n",
      "[Epoch 17]\tTrain Loss: 0.1384\tValidation Loss: 0.1719\n",
      "[Epoch 18]\tTrain Loss: 0.1330\tValidation Loss: 0.1298\n",
      "[Epoch 19]\tTrain Loss: 0.1271\tValidation Loss: 0.1494\n",
      "[Epoch 20]\tTrain Loss: 0.1257\tValidation Loss: 0.1321\n",
      "[Epoch 21]\tTrain Loss: 0.1247\tValidation Loss: 0.1391\n",
      "[Epoch 22]\tTrain Loss: 0.1181\tValidation Loss: 0.1327\n",
      "[Epoch 23]\tTrain Loss: 0.1197\tValidation Loss: 0.1270\n",
      "[Epoch 24]\tTrain Loss: 0.1162\tValidation Loss: 0.1259\n",
      "[Epoch 25]\tTrain Loss: 0.1128\tValidation Loss: 0.1139\n",
      "[Epoch 26]\tTrain Loss: 0.1131\tValidation Loss: 0.1214\n",
      "[Epoch 27]\tTrain Loss: 0.1083\tValidation Loss: 0.1303\n",
      "[Epoch 28]\tTrain Loss: 0.1085\tValidation Loss: 0.1418\n",
      "[Epoch 29]\tTrain Loss: 0.1034\tValidation Loss: 0.1142\n",
      "[Epoch 30]\tTrain Loss: 0.1060\tValidation Loss: 0.1346\n",
      "[Epoch 31]\tTrain Loss: 0.1031\tValidation Loss: 0.1358\n",
      "[Epoch 32]\tTrain Loss: 0.1011\tValidation Loss: 0.1213\n",
      "[Epoch 33]\tTrain Loss: 0.0987\tValidation Loss: 0.1163\n",
      "[Epoch 34]\tTrain Loss: 0.0966\tValidation Loss: 0.1078\n",
      "[Epoch 35]\tTrain Loss: 0.0983\tValidation Loss: 0.1013\n",
      "[Epoch 36]\tTrain Loss: 0.0941\tValidation Loss: 0.1247\n",
      "[Epoch 37]\tTrain Loss: 0.0941\tValidation Loss: 0.1116\n",
      "[Epoch 38]\tTrain Loss: 0.0962\tValidation Loss: 0.1295\n",
      "[Epoch 39]\tTrain Loss: 0.0922\tValidation Loss: 0.1267\n",
      "[Epoch 40]\tTrain Loss: 0.0921\tValidation Loss: 0.1237\n",
      "[Epoch 41]\tTrain Loss: 0.0899\tValidation Loss: 0.1166\n",
      "[Epoch 42]\tTrain Loss: 0.0912\tValidation Loss: 0.1094\n",
      "[Epoch 43]\tTrain Loss: 0.0871\tValidation Loss: 0.1058\n",
      "[Epoch 44]\tTrain Loss: 0.0878\tValidation Loss: 0.1056\n"
     ]
    }
   ],
   "source": [
    "num_epochs= 45\n",
    "criterion = criterion.to(device)\n",
    "\n",
    "train_loss_arr, val_loss_arr = [], []\n",
    "for epoch in range(num_epochs):\n",
    "    train_loss, val_loss = 0, 0\n",
    "    \n",
    "\n",
    "    model.train()\n",
    "    # Place your code here (5 points)\n",
    "    ## Hint: Loop throught train_loader, get images with their labels and train the model\n",
    "    ## Hint 2: To update train_loss inside the loop use \"train_loss += batch_loss * batch_size\"\"\n",
    "    for images, labels in train_loader:\n",
    "        images, labels = images.to(device), labels.to(device)\n",
    "        scores = model(images)\n",
    "\n",
    "        batch_loss = criterion(scores, labels)\n",
    "        train_loss += batch_loss * len(images)\n",
    "\n",
    "        optimizer.zero_grad()\n",
    "        batch_loss.backward()\n",
    "        optimizer.step()\n",
    "  \n",
    "  \n",
    "    model.eval()\n",
    "    # Place your code here (4 points)\n",
    "    ## Hint: Loop throught val_loader, get images with their labels and evaluate the model\n",
    "    ## Hint 2: To update val_loss inside the loop use \"val_loss += batch_loss * batch_size\"\"\n",
    "    for images, labels in val_loader:\n",
    "        with torch.no_grad():\n",
    "            images, labels = images.to(device), labels.to(device)\n",
    "            scores = model(images)\n",
    "            \n",
    "            batch_loss = criterion(scores, labels)\n",
    "            val_loss += batch_loss * len(images)\n",
    "\n",
    "\n",
    "\n",
    "    train_loss /= len(train_loader.dataset)\n",
    "    val_loss /= len(val_loader.dataset)\n",
    "    train_loss_arr.append(train_loss)\n",
    "    val_loss_arr.append(val_loss)\n",
    "\n",
    "    print(f\"[Epoch {epoch}]\\t\"\n",
    "        f\"Train Loss: {train_loss:.4f}\\t\"\n",
    "        f\"Validation Loss: {val_loss:.4f}\")"
   ]
  },
  {
   "cell_type": "markdown",
   "metadata": {
    "id": "oe3KbjZG2mNd"
   },
   "source": [
    "#### Plot train/validation loss"
   ]
  },
  {
   "cell_type": "code",
   "execution_count": 234,
   "metadata": {
    "colab": {
     "base_uri": "https://localhost:8080/",
     "height": 296
    },
    "id": "nNwH8WMy2qmr",
    "outputId": "61b871e4-8bc6-409f-c525-f0f3fa2823c7"
   },
   "outputs": [
    {
     "data": {
      "image/png": "[encoded data removed]",
      "text/plain": [
       "<Figure size 432x288 with 1 Axes>"
      ]
     },
     "metadata": {
      "needs_background": "light"
     },
     "output_type": "display_data"
    }
   ],
   "source": [
    "# Place your code here (1 points)\n",
    "import numpy as np\n",
    "epoch_num = np.array([i+1 for i in range(num_epochs)])\n",
    "plt.scatter(epoch_num, np.array(train_loss_arr), label='train loss')\n",
    "plt.scatter(epoch_num, np.array(val_loss_arr), label='validation loss')\n",
    "plt.xlabel('epoch_num')\n",
    "plt.ylabel('loss')\n",
    "plt.title('train and validation loss')\n",
    "plt.legend()\n",
    "plt.show()"
   ]
  },
  {
   "cell_type": "markdown",
   "metadata": {
    "id": "AKsD6NhU2w71"
   },
   "source": [
    "### Evaluation"
   ]
  },
  {
   "cell_type": "markdown",
   "metadata": {
    "id": "oZcXJuWX255T"
   },
   "source": [
    "Evaluate your model on test set. you have to report both loss and accuracy.\n",
    "\n",
    "In order to get the full score of this section, you need to achieve an accuracy above $95\\%$ and to get the extra points, your accuracy should be above $98\\%$ \n",
    "\n",
    "**Notice:** You should use test set only for evaluation of your model."
   ]
  },
  {
   "cell_type": "code",
   "execution_count": 237,
   "metadata": {
    "colab": {
     "base_uri": "https://localhost:8080/"
    },
    "id": "bl4bsjhg2xMo",
    "outputId": "17c2a605-34f4-4c9a-a07c-5c2997e7a310"
   },
   "outputs": [
    {
     "name": "stdout",
     "output_type": "stream",
     "text": [
      "Accuracy: 98.0%\n"
     ]
    }
   ],
   "source": [
    "# Place your code here (4 points + 5 Extra)\n",
    "total = 0\n",
    "correct = 0\n",
    "for images, labels in test_loader:\n",
    "    with torch.no_grad():\n",
    "        images, labels = images.to(device), labels.to(device)\n",
    "        scores = model(images)\n",
    "\n",
    "        predictions = scores.argmax(-1)\n",
    "        total += len(predictions)\n",
    "        correct += (predictions == labels).sum().item()\n",
    "        \n",
    "print(f'Accuracy: {correct * 100. / total:.1f}%')"
   ]
  },
  {
   "cell_type": "markdown",
   "metadata": {
    "id": "w4eZsFnV3rTi"
   },
   "source": [
    "### Visualization of wrong prediction"
   ]
  },
  {
   "cell_type": "markdown",
   "metadata": {
    "id": "y9jvB_lZ3uqx"
   },
   "source": [
    "Visualize $8$ samples (along with original label and model's prediction) from test set which are labeled wrong by your model"
   ]
  },
  {
   "cell_type": "code",
   "execution_count": 236,
   "metadata": {
    "colab": {
     "base_uri": "https://localhost:8080/",
     "height": 1000
    },
    "id": "8rLlhJvE4IjZ",
    "outputId": "bae4792d-46ef-4553-fd19-6620126b641a"
   },
   "outputs": [
    {
     "name": "stdout",
     "output_type": "stream",
     "text": [
      "label: 9, prediction: 8\n"
     ]
    },
    {
     "data": {
      "image/png": "[encoded data removed]",
      "text/plain": [
       "<Figure size 432x288 with 1 Axes>"
      ]
     },
     "metadata": {
      "needs_background": "light"
     },
     "output_type": "display_data"
    },
    {
     "name": "stdout",
     "output_type": "stream",
     "text": [
      "label: 9, prediction: 8\n"
     ]
    },
    {
     "data": {
      "image/png": "[encoded data removed]",
      "text/plain": [
       "<Figure size 432x288 with 1 Axes>"
      ]
     },
     "metadata": {
      "needs_background": "light"
     },
     "output_type": "display_data"
    },
    {
     "name": "stdout",
     "output_type": "stream",
     "text": [
      "label: 4, prediction: 2\n"
     ]
    },
    {
     "data": {
      "image/png": "[encoded data removed]",
      "text/plain": [
       "<Figure size 432x288 with 1 Axes>"
      ]
     },
     "metadata": {
      "needs_background": "light"
     },
     "output_type": "display_data"
    },
    {
     "name": "stdout",
     "output_type": "stream",
     "text": [
      "label: 9, prediction: 3\n"
     ]
    },
    {
     "data": {
      "image/png": "[encoded data removed]",
      "text/plain": [
       "<Figure size 432x288 with 1 Axes>"
      ]
     },
     "metadata": {
      "needs_background": "light"
     },
     "output_type": "display_data"
    },
    {
     "name": "stdout",
     "output_type": "stream",
     "text": [
      "label: 2, prediction: 7\n"
     ]
    },
    {
     "data": {
      "image/png": "[encoded data removed]",
      "text/plain": [
       "<Figure size 432x288 with 1 Axes>"
      ]
     },
     "metadata": {
      "needs_background": "light"
     },
     "output_type": "display_data"
    },
    {
     "name": "stdout",
     "output_type": "stream",
     "text": [
      "label: 7, prediction: 6\n"
     ]
    },
    {
     "data": {
      "image/png": "[encoded data removed]",
      "text/plain": [
       "<Figure size 432x288 with 1 Axes>"
      ]
     },
     "metadata": {
      "needs_background": "light"
     },
     "output_type": "display_data"
    },
    {
     "name": "stdout",
     "output_type": "stream",
     "text": [
      "label: 4, prediction: 9\n"
     ]
    },
    {
     "data": {
      "image/png": "[encoded data removed]",
      "text/plain": [
       "<Figure size 432x288 with 1 Axes>"
      ]
     },
     "metadata": {
      "needs_background": "light"
     },
     "output_type": "display_data"
    },
    {
     "name": "stdout",
     "output_type": "stream",
     "text": [
      "label: 8, prediction: 2\n"
     ]
    },
    {
     "data": {
      "image/png": "[encoded data removed]",
      "text/plain": [
       "<Figure size 432x288 with 1 Axes>"
      ]
     },
     "metadata": {
      "needs_background": "light"
     },
     "output_type": "display_data"
    }
   ],
   "source": [
    "# Place your code here (5 points)\n",
    "with torch.no_grad():\n",
    "    count = 0\n",
    "    for index in range(len(test_dataset)):\n",
    "        image, label = test_dataset[index]\n",
    "        image = image.to(device)\n",
    "        scores = model(image)\n",
    "        prediction = scores.argmax(-1)\n",
    "        if label != prediction:\n",
    "            count += 1\n",
    "            print(f'label: {label}, prediction: {int(prediction)}')\n",
    "            plt.imshow(image.cpu()[0], cmap='gray')\n",
    "            plt.show()\n",
    "            if count == 8:\n",
    "                break"
   ]
  }
 ],
 "metadata": {
  "accelerator": "GPU",
  "colab": {
   "collapsed_sections": [],
   "name": "Q2.ipynb",
   "provenance": []
  },
  "interpreter": {
   "hash": "f336af7d54ba0f0c1daaf2256eb85f31e983e88153daf7a27ef3ea6c724faba4"
  },
  "kernelspec": {
   "display_name": "Python 3",
   "language": "python",
   "name": "python3"
  },
  "language_info": {
   "codemirror_mode": {
    "name": "ipython",
    "version": 3
   },
   "file_extension": ".py",
   "mimetype": "text/x-python",
   "name": "python",
   "nbconvert_exporter": "python",
   "pygments_lexer": "ipython3",
   "version": "3.8.3"
  },
  "widgets": {
   "application/vnd.jupyter.widget-state+json": {
    "08cac9a55e594236bf634e61713a2923": {
     "model_module": "@jupyter-widgets/controls",
     "model_module_version": "1.5.0",
     "model_name": "HBoxModel",
     "state": {
      "_dom_classes": [],
      "_model_module": "@jupyter-widgets/controls",
      "_model_module_version": "1.5.0",
      "_model_name": "HBoxModel",
      "_view_count": null,
      "_view_module": "@jupyter-widgets/controls",
      "_view_module_version": "1.5.0",
      "_view_name": "HBoxView",
      "box_style": "",
      "children": [
       "IPY_MODEL_d89f657250c54c999c7c725a81e11a89",
       "IPY_MODEL_ed2b26f573c943adace0a8bbde546e49",
       "IPY_MODEL_c2bbb7bc6e3a499fb7ecc3b7edb3cce0"
      ],
      "layout": "IPY_MODEL_db71282f9d2c4666b0bb8313baaf8f3c"
     }
    },
    "09a2c3c9822c4082910c25c64be76261": {
     "model_module": "@jupyter-widgets/controls",
     "model_module_version": "1.5.0",
     "model_name": "DescriptionStyleModel",
     "state": {
      "_model_module": "@jupyter-widgets/controls",
      "_model_module_version": "1.5.0",
      "_model_name": "DescriptionStyleModel",
      "_view_count": null,
      "_view_module": "@jupyter-widgets/base",
      "_view_module_version": "1.2.0",
      "_view_name": "StyleView",
      "description_width": ""
     }
    },
    "0c8f8965911949e292c194356ef7d8fe": {
     "model_module": "@jupyter-widgets/controls",
     "model_module_version": "1.5.0",
     "model_name": "HBoxModel",
     "state": {
      "_dom_classes": [],
      "_model_module": "@jupyter-widgets/controls",
      "_model_module_version": "1.5.0",
      "_model_name": "HBoxModel",
      "_view_count": null,
      "_view_module": "@jupyter-widgets/controls",
      "_view_module_version": "1.5.0",
      "_view_name": "HBoxView",
      "box_style": "",
      "children": [
       "IPY_MODEL_c9d52b70e2b34304934a1011fe5bfe84",
       "IPY_MODEL_a2d0fb33e1c7437388a7c8d90a68e581",
       "IPY_MODEL_7225cd8d6f6143bda5bc1d65a2a76ce2"
      ],
      "layout": "IPY_MODEL_d06a605b17414f0c9941bd325ae801fc"
     }
    },
    "0ccffbda7d6444238f9a323ebc394ee3": {
     "model_module": "@jupyter-widgets/base",
     "model_module_version": "1.2.0",
     "model_name": "LayoutModel",
     "state": {
      "_model_module": "@jupyter-widgets/base",
      "_model_module_version": "1.2.0",
      "_model_name": "LayoutModel",
      "_view_count": null,
      "_view_module": "@jupyter-widgets/base",
      "_view_module_version": "1.2.0",
      "_view_name": "LayoutView",
      "align_content": null,
      "align_items": null,
      "align_self": null,
      "border": null,
      "bottom": null,
      "display": null,
      "flex": null,
      "flex_flow": null,
      "grid_area": null,
      "grid_auto_columns": null,
      "grid_auto_flow": null,
      "grid_auto_rows": null,
      "grid_column": null,
      "grid_gap": null,
      "grid_row": null,
      "grid_template_areas": null,
      "grid_template_columns": null,
      "grid_template_rows": null,
      "height": null,
      "justify_content": null,
      "justify_items": null,
      "left": null,
      "margin": null,
      "max_height": null,
      "max_width": null,
      "min_height": null,
      "min_width": null,
      "object_fit": null,
      "object_position": null,
      "order": null,
      "overflow": null,
      "overflow_x": null,
      "overflow_y": null,
      "padding": null,
      "right": null,
      "top": null,
      "visibility": null,
      "width": null
     }
    },
    "18b941bc72964bc8b293fd6118f58d31": {
     "model_module": "@jupyter-widgets/controls",
     "model_module_version": "1.5.0",
     "model_name": "ProgressStyleModel",
     "state": {
      "_model_module": "@jupyter-widgets/controls",
      "_model_module_version": "1.5.0",
      "_model_name": "ProgressStyleModel",
      "_view_count": null,
      "_view_module": "@jupyter-widgets/base",
      "_view_module_version": "1.2.0",
      "_view_name": "StyleView",
      "bar_color": null,
      "description_width": ""
     }
    },
    "289f941a950744b194535afc0763fd55": {
     "model_module": "@jupyter-widgets/controls",
     "model_module_version": "1.5.0",
     "model_name": "HBoxModel",
     "state": {
      "_dom_classes": [],
      "_model_module": "@jupyter-widgets/controls",
      "_model_module_version": "1.5.0",
      "_model_name": "HBoxModel",
      "_view_count": null,
      "_view_module": "@jupyter-widgets/controls",
      "_view_module_version": "1.5.0",
      "_view_name": "HBoxView",
      "box_style": "",
      "children": [
       "IPY_MODEL_cf43420a5c4744388350d9f25e01c077",
       "IPY_MODEL_bac88f8e50f84c44a2f845d6c8a68be5",
       "IPY_MODEL_f5908f004345405e804b856b2a8a9043"
      ],
      "layout": "IPY_MODEL_0ccffbda7d6444238f9a323ebc394ee3"
     }
    },
    "2db4151f7ad24b11a7914383acadcf41": {
     "model_module": "@jupyter-widgets/base",
     "model_module_version": "1.2.0",
     "model_name": "LayoutModel",
     "state": {
      "_model_module": "@jupyter-widgets/base",
      "_model_module_version": "1.2.0",
      "_model_name": "LayoutModel",
      "_view_count": null,
      "_view_module": "@jupyter-widgets/base",
      "_view_module_version": "1.2.0",
      "_view_name": "LayoutView",
      "align_content": null,
      "align_items": null,
      "align_self": null,
      "border": null,
      "bottom": null,
      "display": null,
      "flex": null,
      "flex_flow": null,
      "grid_area": null,
      "grid_auto_columns": null,
      "grid_auto_flow": null,
      "grid_auto_rows": null,
      "grid_column": null,
      "grid_gap": null,
      "grid_row": null,
      "grid_template_areas": null,
      "grid_template_columns": null,
      "grid_template_rows": null,
      "height": null,
      "justify_content": null,
      "justify_items": null,
      "left": null,
      "margin": null,
      "max_height": null,
      "max_width": null,
      "min_height": null,
      "min_width": null,
      "object_fit": null,
      "object_position": null,
      "order": null,
      "overflow": null,
      "overflow_x": null,
      "overflow_y": null,
      "padding": null,
      "right": null,
      "top": null,
      "visibility": null,
      "width": null
     }
    },
    "3dec797015b349b882888e2fdc6bc3dc": {
     "model_module": "@jupyter-widgets/base",
     "model_module_version": "1.2.0",
     "model_name": "LayoutModel",
     "state": {
      "_model_module": "@jupyter-widgets/base",
      "_model_module_version": "1.2.0",
      "_model_name": "LayoutModel",
      "_view_count": null,
      "_view_module": "@jupyter-widgets/base",
      "_view_module_version": "1.2.0",
      "_view_name": "LayoutView",
      "align_content": null,
      "align_items": null,
      "align_self": null,
      "border": null,
      "bottom": null,
      "display": null,
      "flex": null,
      "flex_flow": null,
      "grid_area": null,
      "grid_auto_columns": null,
      "grid_auto_flow": null,
      "grid_auto_rows": null,
      "grid_column": null,
      "grid_gap": null,
      "grid_row": null,
      "grid_template_areas": null,
      "grid_template_columns": null,
      "grid_template_rows": null,
      "height": null,
      "justify_content": null,
      "justify_items": null,
      "left": null,
      "margin": null,
      "max_height": null,
      "max_width": null,
      "min_height": null,
      "min_width": null,
      "object_fit": null,
      "object_position": null,
      "order": null,
      "overflow": null,
      "overflow_x": null,
      "overflow_y": null,
      "padding": null,
      "right": null,
      "top": null,
      "visibility": null,
      "width": null
     }
    },
    "4458aee0f7ef4d4380d231a67210161f": {
     "model_module": "@jupyter-widgets/base",
     "model_module_version": "1.2.0",
     "model_name": "LayoutModel",
     "state": {
      "_model_module": "@jupyter-widgets/base",
      "_model_module_version": "1.2.0",
      "_model_name": "LayoutModel",
      "_view_count": null,
      "_view_module": "@jupyter-widgets/base",
      "_view_module_version": "1.2.0",
      "_view_name": "LayoutView",
      "align_content": null,
      "align_items": null,
      "align_self": null,
      "border": null,
      "bottom": null,
      "display": null,
      "flex": null,
      "flex_flow": null,
      "grid_area": null,
      "grid_auto_columns": null,
      "grid_auto_flow": null,
      "grid_auto_rows": null,
      "grid_column": null,
      "grid_gap": null,
      "grid_row": null,
      "grid_template_areas": null,
      "grid_template_columns": null,
      "grid_template_rows": null,
      "height": null,
      "justify_content": null,
      "justify_items": null,
      "left": null,
      "margin": null,
      "max_height": null,
      "max_width": null,
      "min_height": null,
      "min_width": null,
      "object_fit": null,
      "object_position": null,
      "order": null,
      "overflow": null,
      "overflow_x": null,
      "overflow_y": null,
      "padding": null,
      "right": null,
      "top": null,
      "visibility": null,
      "width": null
     }
    },
    "52c2bdc85404475897a1957fe9451d6f": {
     "model_module": "@jupyter-widgets/base",
     "model_module_version": "1.2.0",
     "model_name": "LayoutModel",
     "state": {
      "_model_module": "@jupyter-widgets/base",
      "_model_module_version": "1.2.0",
      "_model_name": "LayoutModel",
      "_view_count": null,
      "_view_module": "@jupyter-widgets/base",
      "_view_module_version": "1.2.0",
      "_view_name": "LayoutView",
      "align_content": null,
      "align_items": null,
      "align_self": null,
      "border": null,
      "bottom": null,
      "display": null,
      "flex": null,
      "flex_flow": null,
      "grid_area": null,
      "grid_auto_columns": null,
      "grid_auto_flow": null,
      "grid_auto_rows": null,
      "grid_column": null,
      "grid_gap": null,
      "grid_row": null,
      "grid_template_areas": null,
      "grid_template_columns": null,
      "grid_template_rows": null,
      "height": null,
      "justify_content": null,
      "justify_items": null,
      "left": null,
      "margin": null,
      "max_height": null,
      "max_width": null,
      "min_height": null,
      "min_width": null,
      "object_fit": null,
      "object_position": null,
      "order": null,
      "overflow": null,
      "overflow_x": null,
      "overflow_y": null,
      "padding": null,
      "right": null,
      "top": null,
      "visibility": null,
      "width": null
     }
    },
    "5724707286c941e1bbfd768a13ca22ea": {
     "model_module": "@jupyter-widgets/controls",
     "model_module_version": "1.5.0",
     "model_name": "ProgressStyleModel",
     "state": {
      "_model_module": "@jupyter-widgets/controls",
      "_model_module_version": "1.5.0",
      "_model_name": "ProgressStyleModel",
      "_view_count": null,
      "_view_module": "@jupyter-widgets/base",
      "_view_module_version": "1.2.0",
      "_view_name": "StyleView",
      "bar_color": null,
      "description_width": ""
     }
    },
    "600c27d7557a45b3b8ce5008f14d4c96": {
     "model_module": "@jupyter-widgets/base",
     "model_module_version": "1.2.0",
     "model_name": "LayoutModel",
     "state": {
      "_model_module": "@jupyter-widgets/base",
      "_model_module_version": "1.2.0",
      "_model_name": "LayoutModel",
      "_view_count": null,
      "_view_module": "@jupyter-widgets/base",
      "_view_module_version": "1.2.0",
      "_view_name": "LayoutView",
      "align_content": null,
      "align_items": null,
      "align_self": null,
      "border": null,
      "bottom": null,
      "display": null,
      "flex": null,
      "flex_flow": null,
      "grid_area": null,
      "grid_auto_columns": null,
      "grid_auto_flow": null,
      "grid_auto_rows": null,
      "grid_column": null,
      "grid_gap": null,
      "grid_row": null,
      "grid_template_areas": null,
      "grid_template_columns": null,
      "grid_template_rows": null,
      "height": null,
      "justify_content": null,
      "justify_items": null,
      "left": null,
      "margin": null,
      "max_height": null,
      "max_width": null,
      "min_height": null,
      "min_width": null,
      "object_fit": null,
      "object_position": null,
      "order": null,
      "overflow": null,
      "overflow_x": null,
      "overflow_y": null,
      "padding": null,
      "right": null,
      "top": null,
      "visibility": null,
      "width": null
     }
    },
    "7225cd8d6f6143bda5bc1d65a2a76ce2": {
     "model_module": "@jupyter-widgets/controls",
     "model_module_version": "1.5.0",
     "model_name": "HTMLModel",
     "state": {
      "_dom_classes": [],
      "_model_module": "@jupyter-widgets/controls",
      "_model_module_version": "1.5.0",
      "_model_name": "HTMLModel",
      "_view_count": null,
      "_view_module": "@jupyter-widgets/controls",
      "_view_module_version": "1.5.0",
      "_view_name": "HTMLView",
      "description": "",
      "description_tooltip": null,
      "layout": "IPY_MODEL_f85f67bc39a7418dad6f9c48fe044d8f",
      "placeholder": "​",
      "style": "IPY_MODEL_09a2c3c9822c4082910c25c64be76261",
      "value": " 9913344/? [00:00&lt;00:00, 31350816.50it/s]"
     }
    },
    "7901149ead7f4557b19b6adba3d2ea0d": {
     "model_module": "@jupyter-widgets/controls",
     "model_module_version": "1.5.0",
     "model_name": "DescriptionStyleModel",
     "state": {
      "_model_module": "@jupyter-widgets/controls",
      "_model_module_version": "1.5.0",
      "_model_name": "DescriptionStyleModel",
      "_view_count": null,
      "_view_module": "@jupyter-widgets/base",
      "_view_module_version": "1.2.0",
      "_view_name": "StyleView",
      "description_width": ""
     }
    },
    "7e323c70bfd54044b7eda253a9c66b0e": {
     "model_module": "@jupyter-widgets/controls",
     "model_module_version": "1.5.0",
     "model_name": "DescriptionStyleModel",
     "state": {
      "_model_module": "@jupyter-widgets/controls",
      "_model_module_version": "1.5.0",
      "_model_name": "DescriptionStyleModel",
      "_view_count": null,
      "_view_module": "@jupyter-widgets/base",
      "_view_module_version": "1.2.0",
      "_view_name": "StyleView",
      "description_width": ""
     }
    },
    "7ef8bb832413449291d18f36eaacd74e": {
     "model_module": "@jupyter-widgets/controls",
     "model_module_version": "1.5.0",
     "model_name": "DescriptionStyleModel",
     "state": {
      "_model_module": "@jupyter-widgets/controls",
      "_model_module_version": "1.5.0",
      "_model_name": "DescriptionStyleModel",
      "_view_count": null,
      "_view_module": "@jupyter-widgets/base",
      "_view_module_version": "1.2.0",
      "_view_name": "StyleView",
      "description_width": ""
     }
    },
    "8744879b7ca5447eb95716e4d5ae8c0a": {
     "model_module": "@jupyter-widgets/controls",
     "model_module_version": "1.5.0",
     "model_name": "ProgressStyleModel",
     "state": {
      "_model_module": "@jupyter-widgets/controls",
      "_model_module_version": "1.5.0",
      "_model_name": "ProgressStyleModel",
      "_view_count": null,
      "_view_module": "@jupyter-widgets/base",
      "_view_module_version": "1.2.0",
      "_view_name": "StyleView",
      "bar_color": null,
      "description_width": ""
     }
    },
    "9ef0bc845039493c930917ac63627ca2": {
     "model_module": "@jupyter-widgets/base",
     "model_module_version": "1.2.0",
     "model_name": "LayoutModel",
     "state": {
      "_model_module": "@jupyter-widgets/base",
      "_model_module_version": "1.2.0",
      "_model_name": "LayoutModel",
      "_view_count": null,
      "_view_module": "@jupyter-widgets/base",
      "_view_module_version": "1.2.0",
      "_view_name": "LayoutView",
      "align_content": null,
      "align_items": null,
      "align_self": null,
      "border": null,
      "bottom": null,
      "display": null,
      "flex": null,
      "flex_flow": null,
      "grid_area": null,
      "grid_auto_columns": null,
      "grid_auto_flow": null,
      "grid_auto_rows": null,
      "grid_column": null,
      "grid_gap": null,
      "grid_row": null,
      "grid_template_areas": null,
      "grid_template_columns": null,
      "grid_template_rows": null,
      "height": null,
      "justify_content": null,
      "justify_items": null,
      "left": null,
      "margin": null,
      "max_height": null,
      "max_width": null,
      "min_height": null,
      "min_width": null,
      "object_fit": null,
      "object_position": null,
      "order": null,
      "overflow": null,
      "overflow_x": null,
      "overflow_y": null,
      "padding": null,
      "right": null,
      "top": null,
      "visibility": null,
      "width": null
     }
    },
    "a02e6ce403264acd86102336c3c68f23": {
     "model_module": "@jupyter-widgets/base",
     "model_module_version": "1.2.0",
     "model_name": "LayoutModel",
     "state": {
      "_model_module": "@jupyter-widgets/base",
      "_model_module_version": "1.2.0",
      "_model_name": "LayoutModel",
      "_view_count": null,
      "_view_module": "@jupyter-widgets/base",
      "_view_module_version": "1.2.0",
      "_view_name": "LayoutView",
      "align_content": null,
      "align_items": null,
      "align_self": null,
      "border": null,
      "bottom": null,
      "display": null,
      "flex": null,
      "flex_flow": null,
      "grid_area": null,
      "grid_auto_columns": null,
      "grid_auto_flow": null,
      "grid_auto_rows": null,
      "grid_column": null,
      "grid_gap": null,
      "grid_row": null,
      "grid_template_areas": null,
      "grid_template_columns": null,
      "grid_template_rows": null,
      "height": null,
      "justify_content": null,
      "justify_items": null,
      "left": null,
      "margin": null,
      "max_height": null,
      "max_width": null,
      "min_height": null,
      "min_width": null,
      "object_fit": null,
      "object_position": null,
      "order": null,
      "overflow": null,
      "overflow_x": null,
      "overflow_y": null,
      "padding": null,
      "right": null,
      "top": null,
      "visibility": null,
      "width": null
     }
    },
    "a2d0fb33e1c7437388a7c8d90a68e581": {
     "model_module": "@jupyter-widgets/controls",
     "model_module_version": "1.5.0",
     "model_name": "FloatProgressModel",
     "state": {
      "_dom_classes": [],
      "_model_module": "@jupyter-widgets/controls",
      "_model_module_version": "1.5.0",
      "_model_name": "FloatProgressModel",
      "_view_count": null,
      "_view_module": "@jupyter-widgets/controls",
      "_view_module_version": "1.5.0",
      "_view_name": "ProgressView",
      "bar_style": "success",
      "description": "",
      "description_tooltip": null,
      "layout": "IPY_MODEL_2db4151f7ad24b11a7914383acadcf41",
      "max": 9912422,
      "min": 0,
      "orientation": "horizontal",
      "style": "IPY_MODEL_5724707286c941e1bbfd768a13ca22ea",
      "value": 9912422
     }
    },
    "a8688e1cdbe54d139294f1cf08db5ac8": {
     "model_module": "@jupyter-widgets/controls",
     "model_module_version": "1.5.0",
     "model_name": "DescriptionStyleModel",
     "state": {
      "_model_module": "@jupyter-widgets/controls",
      "_model_module_version": "1.5.0",
      "_model_name": "DescriptionStyleModel",
      "_view_count": null,
      "_view_module": "@jupyter-widgets/base",
      "_view_module_version": "1.2.0",
      "_view_name": "StyleView",
      "description_width": ""
     }
    },
    "b5fa2a0ec3b74a5c896660b37aa2a771": {
     "model_module": "@jupyter-widgets/controls",
     "model_module_version": "1.5.0",
     "model_name": "HTMLModel",
     "state": {
      "_dom_classes": [],
      "_model_module": "@jupyter-widgets/controls",
      "_model_module_version": "1.5.0",
      "_model_name": "HTMLModel",
      "_view_count": null,
      "_view_module": "@jupyter-widgets/controls",
      "_view_module_version": "1.5.0",
      "_view_name": "HTMLView",
      "description": "",
      "description_tooltip": null,
      "layout": "IPY_MODEL_9ef0bc845039493c930917ac63627ca2",
      "placeholder": "​",
      "style": "IPY_MODEL_7901149ead7f4557b19b6adba3d2ea0d",
      "value": ""
     }
    },
    "bac88f8e50f84c44a2f845d6c8a68be5": {
     "model_module": "@jupyter-widgets/controls",
     "model_module_version": "1.5.0",
     "model_name": "FloatProgressModel",
     "state": {
      "_dom_classes": [],
      "_model_module": "@jupyter-widgets/controls",
      "_model_module_version": "1.5.0",
      "_model_name": "FloatProgressModel",
      "_view_count": null,
      "_view_module": "@jupyter-widgets/controls",
      "_view_module_version": "1.5.0",
      "_view_name": "ProgressView",
      "bar_style": "success",
      "description": "",
      "description_tooltip": null,
      "layout": "IPY_MODEL_f93bb3ccbe864cc8a4dcae3c142b8fef",
      "max": 1648877,
      "min": 0,
      "orientation": "horizontal",
      "style": "IPY_MODEL_f0508ca29b5a46299bb1a6d07583d4d8",
      "value": 1648877
     }
    },
    "bff63eae64364904b553801bac58163d": {
     "model_module": "@jupyter-widgets/base",
     "model_module_version": "1.2.0",
     "model_name": "LayoutModel",
     "state": {
      "_model_module": "@jupyter-widgets/base",
      "_model_module_version": "1.2.0",
      "_model_name": "LayoutModel",
      "_view_count": null,
      "_view_module": "@jupyter-widgets/base",
      "_view_module_version": "1.2.0",
      "_view_name": "LayoutView",
      "align_content": null,
      "align_items": null,
      "align_self": null,
      "border": null,
      "bottom": null,
      "display": null,
      "flex": null,
      "flex_flow": null,
      "grid_area": null,
      "grid_auto_columns": null,
      "grid_auto_flow": null,
      "grid_auto_rows": null,
      "grid_column": null,
      "grid_gap": null,
      "grid_row": null,
      "grid_template_areas": null,
      "grid_template_columns": null,
      "grid_template_rows": null,
      "height": null,
      "justify_content": null,
      "justify_items": null,
      "left": null,
      "margin": null,
      "max_height": null,
      "max_width": null,
      "min_height": null,
      "min_width": null,
      "object_fit": null,
      "object_position": null,
      "order": null,
      "overflow": null,
      "overflow_x": null,
      "overflow_y": null,
      "padding": null,
      "right": null,
      "top": null,
      "visibility": null,
      "width": null
     }
    },
    "c2bbb7bc6e3a499fb7ecc3b7edb3cce0": {
     "model_module": "@jupyter-widgets/controls",
     "model_module_version": "1.5.0",
     "model_name": "HTMLModel",
     "state": {
      "_dom_classes": [],
      "_model_module": "@jupyter-widgets/controls",
      "_model_module_version": "1.5.0",
      "_model_name": "HTMLModel",
      "_view_count": null,
      "_view_module": "@jupyter-widgets/controls",
      "_view_module_version": "1.5.0",
      "_view_name": "HTMLView",
      "description": "",
      "description_tooltip": null,
      "layout": "IPY_MODEL_bff63eae64364904b553801bac58163d",
      "placeholder": "​",
      "style": "IPY_MODEL_7e323c70bfd54044b7eda253a9c66b0e",
      "value": " 29696/? [00:00&lt;00:00, 708345.47it/s]"
     }
    },
    "c9d52b70e2b34304934a1011fe5bfe84": {
     "model_module": "@jupyter-widgets/controls",
     "model_module_version": "1.5.0",
     "model_name": "HTMLModel",
     "state": {
      "_dom_classes": [],
      "_model_module": "@jupyter-widgets/controls",
      "_model_module_version": "1.5.0",
      "_model_name": "HTMLModel",
      "_view_count": null,
      "_view_module": "@jupyter-widgets/controls",
      "_view_module_version": "1.5.0",
      "_view_name": "HTMLView",
      "description": "",
      "description_tooltip": null,
      "layout": "IPY_MODEL_a02e6ce403264acd86102336c3c68f23",
      "placeholder": "​",
      "style": "IPY_MODEL_defaf7b4f4e3440493d1d5265ea0ccc7",
      "value": ""
     }
    },
    "cba7e0cb52c64c3fab75c6bfa03d8c18": {
     "model_module": "@jupyter-widgets/controls",
     "model_module_version": "1.5.0",
     "model_name": "DescriptionStyleModel",
     "state": {
      "_model_module": "@jupyter-widgets/controls",
      "_model_module_version": "1.5.0",
      "_model_name": "DescriptionStyleModel",
      "_view_count": null,
      "_view_module": "@jupyter-widgets/base",
      "_view_module_version": "1.2.0",
      "_view_name": "StyleView",
      "description_width": ""
     }
    },
    "cf43420a5c4744388350d9f25e01c077": {
     "model_module": "@jupyter-widgets/controls",
     "model_module_version": "1.5.0",
     "model_name": "HTMLModel",
     "state": {
      "_dom_classes": [],
      "_model_module": "@jupyter-widgets/controls",
      "_model_module_version": "1.5.0",
      "_model_name": "HTMLModel",
      "_view_count": null,
      "_view_module": "@jupyter-widgets/controls",
      "_view_module_version": "1.5.0",
      "_view_name": "HTMLView",
      "description": "",
      "description_tooltip": null,
      "layout": "IPY_MODEL_f5f031f56c4c4a0a82245c349a165a96",
      "placeholder": "​",
      "style": "IPY_MODEL_a8688e1cdbe54d139294f1cf08db5ac8",
      "value": ""
     }
    },
    "d06a605b17414f0c9941bd325ae801fc": {
     "model_module": "@jupyter-widgets/base",
     "model_module_version": "1.2.0",
     "model_name": "LayoutModel",
     "state": {
      "_model_module": "@jupyter-widgets/base",
      "_model_module_version": "1.2.0",
      "_model_name": "LayoutModel",
      "_view_count": null,
      "_view_module": "@jupyter-widgets/base",
      "_view_module_version": "1.2.0",
      "_view_name": "LayoutView",
      "align_content": null,
      "align_items": null,
      "align_self": null,
      "border": null,
      "bottom": null,
      "display": null,
      "flex": null,
      "flex_flow": null,
      "grid_area": null,
      "grid_auto_columns": null,
      "grid_auto_flow": null,
      "grid_auto_rows": null,
      "grid_column": null,
      "grid_gap": null,
      "grid_row": null,
      "grid_template_areas": null,
      "grid_template_columns": null,
      "grid_template_rows": null,
      "height": null,
      "justify_content": null,
      "justify_items": null,
      "left": null,
      "margin": null,
      "max_height": null,
      "max_width": null,
      "min_height": null,
      "min_width": null,
      "object_fit": null,
      "object_position": null,
      "order": null,
      "overflow": null,
      "overflow_x": null,
      "overflow_y": null,
      "padding": null,
      "right": null,
      "top": null,
      "visibility": null,
      "width": null
     }
    },
    "d30ec3f0469b40158b8c3d88dd17d066": {
     "model_module": "@jupyter-widgets/controls",
     "model_module_version": "1.5.0",
     "model_name": "DescriptionStyleModel",
     "state": {
      "_model_module": "@jupyter-widgets/controls",
      "_model_module_version": "1.5.0",
      "_model_name": "DescriptionStyleModel",
      "_view_count": null,
      "_view_module": "@jupyter-widgets/base",
      "_view_module_version": "1.2.0",
      "_view_name": "StyleView",
      "description_width": ""
     }
    },
    "d5bde2f6d6934609bed08f7131180be8": {
     "model_module": "@jupyter-widgets/base",
     "model_module_version": "1.2.0",
     "model_name": "LayoutModel",
     "state": {
      "_model_module": "@jupyter-widgets/base",
      "_model_module_version": "1.2.0",
      "_model_name": "LayoutModel",
      "_view_count": null,
      "_view_module": "@jupyter-widgets/base",
      "_view_module_version": "1.2.0",
      "_view_name": "LayoutView",
      "align_content": null,
      "align_items": null,
      "align_self": null,
      "border": null,
      "bottom": null,
      "display": null,
      "flex": null,
      "flex_flow": null,
      "grid_area": null,
      "grid_auto_columns": null,
      "grid_auto_flow": null,
      "grid_auto_rows": null,
      "grid_column": null,
      "grid_gap": null,
      "grid_row": null,
      "grid_template_areas": null,
      "grid_template_columns": null,
      "grid_template_rows": null,
      "height": null,
      "justify_content": null,
      "justify_items": null,
      "left": null,
      "margin": null,
      "max_height": null,
      "max_width": null,
      "min_height": null,
      "min_width": null,
      "object_fit": null,
      "object_position": null,
      "order": null,
      "overflow": null,
      "overflow_x": null,
      "overflow_y": null,
      "padding": null,
      "right": null,
      "top": null,
      "visibility": null,
      "width": null
     }
    },
    "d89f657250c54c999c7c725a81e11a89": {
     "model_module": "@jupyter-widgets/controls",
     "model_module_version": "1.5.0",
     "model_name": "HTMLModel",
     "state": {
      "_dom_classes": [],
      "_model_module": "@jupyter-widgets/controls",
      "_model_module_version": "1.5.0",
      "_model_name": "HTMLModel",
      "_view_count": null,
      "_view_module": "@jupyter-widgets/controls",
      "_view_module_version": "1.5.0",
      "_view_name": "HTMLView",
      "description": "",
      "description_tooltip": null,
      "layout": "IPY_MODEL_600c27d7557a45b3b8ce5008f14d4c96",
      "placeholder": "​",
      "style": "IPY_MODEL_7ef8bb832413449291d18f36eaacd74e",
      "value": ""
     }
    },
    "da3ccdc5b7b148b3b7d7eb684a78b869": {
     "model_module": "@jupyter-widgets/base",
     "model_module_version": "1.2.0",
     "model_name": "LayoutModel",
     "state": {
      "_model_module": "@jupyter-widgets/base",
      "_model_module_version": "1.2.0",
      "_model_name": "LayoutModel",
      "_view_count": null,
      "_view_module": "@jupyter-widgets/base",
      "_view_module_version": "1.2.0",
      "_view_name": "LayoutView",
      "align_content": null,
      "align_items": null,
      "align_self": null,
      "border": null,
      "bottom": null,
      "display": null,
      "flex": null,
      "flex_flow": null,
      "grid_area": null,
      "grid_auto_columns": null,
      "grid_auto_flow": null,
      "grid_auto_rows": null,
      "grid_column": null,
      "grid_gap": null,
      "grid_row": null,
      "grid_template_areas": null,
      "grid_template_columns": null,
      "grid_template_rows": null,
      "height": null,
      "justify_content": null,
      "justify_items": null,
      "left": null,
      "margin": null,
      "max_height": null,
      "max_width": null,
      "min_height": null,
      "min_width": null,
      "object_fit": null,
      "object_position": null,
      "order": null,
      "overflow": null,
      "overflow_x": null,
      "overflow_y": null,
      "padding": null,
      "right": null,
      "top": null,
      "visibility": null,
      "width": null
     }
    },
    "db71282f9d2c4666b0bb8313baaf8f3c": {
     "model_module": "@jupyter-widgets/base",
     "model_module_version": "1.2.0",
     "model_name": "LayoutModel",
     "state": {
      "_model_module": "@jupyter-widgets/base",
      "_model_module_version": "1.2.0",
      "_model_name": "LayoutModel",
      "_view_count": null,
      "_view_module": "@jupyter-widgets/base",
      "_view_module_version": "1.2.0",
      "_view_name": "LayoutView",
      "align_content": null,
      "align_items": null,
      "align_self": null,
      "border": null,
      "bottom": null,
      "display": null,
      "flex": null,
      "flex_flow": null,
      "grid_area": null,
      "grid_auto_columns": null,
      "grid_auto_flow": null,
      "grid_auto_rows": null,
      "grid_column": null,
      "grid_gap": null,
      "grid_row": null,
      "grid_template_areas": null,
      "grid_template_columns": null,
      "grid_template_rows": null,
      "height": null,
      "justify_content": null,
      "justify_items": null,
      "left": null,
      "margin": null,
      "max_height": null,
      "max_width": null,
      "min_height": null,
      "min_width": null,
      "object_fit": null,
      "object_position": null,
      "order": null,
      "overflow": null,
      "overflow_x": null,
      "overflow_y": null,
      "padding": null,
      "right": null,
      "top": null,
      "visibility": null,
      "width": null
     }
    },
    "de236e46e66e434682b6ae3a39ba0a6f": {
     "model_module": "@jupyter-widgets/controls",
     "model_module_version": "1.5.0",
     "model_name": "HBoxModel",
     "state": {
      "_dom_classes": [],
      "_model_module": "@jupyter-widgets/controls",
      "_model_module_version": "1.5.0",
      "_model_name": "HBoxModel",
      "_view_count": null,
      "_view_module": "@jupyter-widgets/controls",
      "_view_module_version": "1.5.0",
      "_view_name": "HBoxView",
      "box_style": "",
      "children": [
       "IPY_MODEL_b5fa2a0ec3b74a5c896660b37aa2a771",
       "IPY_MODEL_e21afbcae6644945845db5813dedfe8c",
       "IPY_MODEL_f7d5e02f171644abb476330d32ac23af"
      ],
      "layout": "IPY_MODEL_3dec797015b349b882888e2fdc6bc3dc"
     }
    },
    "defaf7b4f4e3440493d1d5265ea0ccc7": {
     "model_module": "@jupyter-widgets/controls",
     "model_module_version": "1.5.0",
     "model_name": "DescriptionStyleModel",
     "state": {
      "_model_module": "@jupyter-widgets/controls",
      "_model_module_version": "1.5.0",
      "_model_name": "DescriptionStyleModel",
      "_view_count": null,
      "_view_module": "@jupyter-widgets/base",
      "_view_module_version": "1.2.0",
      "_view_name": "StyleView",
      "description_width": ""
     }
    },
    "e21afbcae6644945845db5813dedfe8c": {
     "model_module": "@jupyter-widgets/controls",
     "model_module_version": "1.5.0",
     "model_name": "FloatProgressModel",
     "state": {
      "_dom_classes": [],
      "_model_module": "@jupyter-widgets/controls",
      "_model_module_version": "1.5.0",
      "_model_name": "FloatProgressModel",
      "_view_count": null,
      "_view_module": "@jupyter-widgets/controls",
      "_view_module_version": "1.5.0",
      "_view_name": "ProgressView",
      "bar_style": "success",
      "description": "",
      "description_tooltip": null,
      "layout": "IPY_MODEL_d5bde2f6d6934609bed08f7131180be8",
      "max": 4542,
      "min": 0,
      "orientation": "horizontal",
      "style": "IPY_MODEL_8744879b7ca5447eb95716e4d5ae8c0a",
      "value": 4542
     }
    },
    "ed2b26f573c943adace0a8bbde546e49": {
     "model_module": "@jupyter-widgets/controls",
     "model_module_version": "1.5.0",
     "model_name": "FloatProgressModel",
     "state": {
      "_dom_classes": [],
      "_model_module": "@jupyter-widgets/controls",
      "_model_module_version": "1.5.0",
      "_model_name": "FloatProgressModel",
      "_view_count": null,
      "_view_module": "@jupyter-widgets/controls",
      "_view_module_version": "1.5.0",
      "_view_name": "ProgressView",
      "bar_style": "success",
      "description": "",
      "description_tooltip": null,
      "layout": "IPY_MODEL_4458aee0f7ef4d4380d231a67210161f",
      "max": 28881,
      "min": 0,
      "orientation": "horizontal",
      "style": "IPY_MODEL_18b941bc72964bc8b293fd6118f58d31",
      "value": 28881
     }
    },
    "f0508ca29b5a46299bb1a6d07583d4d8": {
     "model_module": "@jupyter-widgets/controls",
     "model_module_version": "1.5.0",
     "model_name": "ProgressStyleModel",
     "state": {
      "_model_module": "@jupyter-widgets/controls",
      "_model_module_version": "1.5.0",
      "_model_name": "ProgressStyleModel",
      "_view_count": null,
      "_view_module": "@jupyter-widgets/base",
      "_view_module_version": "1.2.0",
      "_view_name": "StyleView",
      "bar_color": null,
      "description_width": ""
     }
    },
    "f5908f004345405e804b856b2a8a9043": {
     "model_module": "@jupyter-widgets/controls",
     "model_module_version": "1.5.0",
     "model_name": "HTMLModel",
     "state": {
      "_dom_classes": [],
      "_model_module": "@jupyter-widgets/controls",
      "_model_module_version": "1.5.0",
      "_model_name": "HTMLModel",
      "_view_count": null,
      "_view_module": "@jupyter-widgets/controls",
      "_view_module_version": "1.5.0",
      "_view_name": "HTMLView",
      "description": "",
      "description_tooltip": null,
      "layout": "IPY_MODEL_da3ccdc5b7b148b3b7d7eb684a78b869",
      "placeholder": "​",
      "style": "IPY_MODEL_cba7e0cb52c64c3fab75c6bfa03d8c18",
      "value": " 1649664/? [00:00&lt;00:00, 16943895.72it/s]"
     }
    },
    "f5f031f56c4c4a0a82245c349a165a96": {
     "model_module": "@jupyter-widgets/base",
     "model_module_version": "1.2.0",
     "model_name": "LayoutModel",
     "state": {
      "_model_module": "@jupyter-widgets/base",
      "_model_module_version": "1.2.0",
      "_model_name": "LayoutModel",
      "_view_count": null,
      "_view_module": "@jupyter-widgets/base",
      "_view_module_version": "1.2.0",
      "_view_name": "LayoutView",
      "align_content": null,
      "align_items": null,
      "align_self": null,
      "border": null,
      "bottom": null,
      "display": null,
      "flex": null,
      "flex_flow": null,
      "grid_area": null,
      "grid_auto_columns": null,
      "grid_auto_flow": null,
      "grid_auto_rows": null,
      "grid_column": null,
      "grid_gap": null,
      "grid_row": null,
      "grid_template_areas": null,
      "grid_template_columns": null,
      "grid_template_rows": null,
      "height": null,
      "justify_content": null,
      "justify_items": null,
      "left": null,
      "margin": null,
      "max_height": null,
      "max_width": null,
      "min_height": null,
      "min_width": null,
      "object_fit": null,
      "object_position": null,
      "order": null,
      "overflow": null,
      "overflow_x": null,
      "overflow_y": null,
      "padding": null,
      "right": null,
      "top": null,
      "visibility": null,
      "width": null
     }
    },
    "f7d5e02f171644abb476330d32ac23af": {
     "model_module": "@jupyter-widgets/controls",
     "model_module_version": "1.5.0",
     "model_name": "HTMLModel",
     "state": {
      "_dom_classes": [],
      "_model_module": "@jupyter-widgets/controls",
      "_model_module_version": "1.5.0",
      "_model_name": "HTMLModel",
      "_view_count": null,
      "_view_module": "@jupyter-widgets/controls",
      "_view_module_version": "1.5.0",
      "_view_name": "HTMLView",
      "description": "",
      "description_tooltip": null,
      "layout": "IPY_MODEL_52c2bdc85404475897a1957fe9451d6f",
      "placeholder": "​",
      "style": "IPY_MODEL_d30ec3f0469b40158b8c3d88dd17d066",
      "value": " 5120/? [00:00&lt;00:00, 140038.97it/s]"
     }
    },
    "f85f67bc39a7418dad6f9c48fe044d8f": {
     "model_module": "@jupyter-widgets/base",
     "model_module_version": "1.2.0",
     "model_name": "LayoutModel",
     "state": {
      "_model_module": "@jupyter-widgets/base",
      "_model_module_version": "1.2.0",
      "_model_name": "LayoutModel",
      "_view_count": null,
      "_view_module": "@jupyter-widgets/base",
      "_view_module_version": "1.2.0",
      "_view_name": "LayoutView",
      "align_content": null,
      "align_items": null,
      "align_self": null,
      "border": null,
      "bottom": null,
      "display": null,
      "flex": null,
      "flex_flow": null,
      "grid_area": null,
      "grid_auto_columns": null,
      "grid_auto_flow": null,
      "grid_auto_rows": null,
      "grid_column": null,
      "grid_gap": null,
      "grid_row": null,
      "grid_template_areas": null,
      "grid_template_columns": null,
      "grid_template_rows": null,
      "height": null,
      "justify_content": null,
      "justify_items": null,
      "left": null,
      "margin": null,
      "max_height": null,
      "max_width": null,
      "min_height": null,
      "min_width": null,
      "object_fit": null,
      "object_position": null,
      "order": null,
      "overflow": null,
      "overflow_x": null,
      "overflow_y": null,
      "padding": null,
      "right": null,
      "top": null,
      "visibility": null,
      "width": null
     }
    },
    "f93bb3ccbe864cc8a4dcae3c142b8fef": {
     "model_module": "@jupyter-widgets/base",
     "model_module_version": "1.2.0",
     "model_name": "LayoutModel",
     "state": {
      "_model_module": "@jupyter-widgets/base",
      "_model_module_version": "1.2.0",
      "_model_name": "LayoutModel",
      "_view_count": null,
      "_view_module": "@jupyter-widgets/base",
      "_view_module_version": "1.2.0",
      "_view_name": "LayoutView",
      "align_content": null,
      "align_items": null,
      "align_self": null,
      "border": null,
      "bottom": null,
      "display": null,
      "flex": null,
      "flex_flow": null,
      "grid_area": null,
      "grid_auto_columns": null,
      "grid_auto_flow": null,
      "grid_auto_rows": null,
      "grid_column": null,
      "grid_gap": null,
      "grid_row": null,
      "grid_template_areas": null,
      "grid_template_columns": null,
      "grid_template_rows": null,
      "height": null,
      "justify_content": null,
      "justify_items": null,
      "left": null,
      "margin": null,
      "max_height": null,
      "max_width": null,
      "min_height": null,
      "min_width": null,
      "object_fit": null,
      "object_position": null,
      "order": null,
      "overflow": null,
      "overflow_x": null,
      "overflow_y": null,
      "padding": null,
      "right": null,
      "top": null,
      "visibility": null,
      "width": null
     }
    }
   }
  }
 },
 "nbformat": 4,
 "nbformat_minor": 1
}
