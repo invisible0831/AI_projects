{
 "cells": [
  {
   "cell_type": "markdown",
   "metadata": {},
   "source": [
    "<div align=center>\n",
    "\t\t\n",
    "<p></p>\n",
    "<p></p>\n",
    "<font size=5>\n",
    "In the Name of God\n",
    "<font/>\n",
    "<p></p>\n",
    " <br/>\n",
    "    <br/>\n",
    "    <br/>\n",
    "<font color=#FF7500>\n",
    "Sharif University of Technology - Departmenet of Computer Engineering\n",
    "</font>\n",
    "<p></p>\n",
    "<font color=blue>\n",
    "Artifical Intelligence - Dr. Mohammad Hossein Rohban\n",
    "</font>\n",
    "<br/>\n",
    "<br/>\n",
    "Fall 2021\n",
    "\n",
    "</div>\n",
    "\n",
    "<hr/>\n",
    "\t\t<div align=center>\n",
    "\t\t    <font color=red size=6>\n",
    "\t\t\t    <br />\n",
    "Practical Assignment 3\n",
    "            \t<br/>\n",
    "\t\t\t</font>\n",
    "    <br/>\n",
    "    <br/>\n",
    "<font size=4>\n",
    "\t\t\t<br/><br/>\n",
    "Deadline: Azar 18th\n",
    "                <br/><b>\n",
    "              Cheating is Strongly Prohibited\n",
    "                </b><br/><br/>\n",
    "                <font color=red>\n",
    "Please run all the cells.\n",
    "     </font>\n",
    "</font>\n",
    "                <br/>\n",
    "    </div>"
   ]
  },
  {
   "cell_type": "markdown",
   "metadata": {},
   "source": [
    "# Personal Data"
   ]
  },
  {
   "cell_type": "code",
   "execution_count": 55,
   "metadata": {
    "collectable": true,
    "execution": {
     "iopub.execute_input": "2021-10-01T16:01:36.762477Z",
     "iopub.status.busy": "2021-10-01T16:01:36.762155Z",
     "iopub.status.idle": "2021-10-01T16:01:36.764025Z",
     "shell.execute_reply": "2021-10-01T16:01:36.763754Z"
    }
   },
   "outputs": [],
   "source": [
    "# Set your student number\n",
    "student_number = 98109837\n",
    "Name = 'Amirreza'\n",
    "Last_Name = 'Soleimanbeigi'"
   ]
  },
  {
   "cell_type": "markdown",
   "metadata": {},
   "source": [
    "# Rules\n",
    "- You are not allowed to add or remove cells. You **must use the provided space to write your code**. If you don't follow this rule, **your Practical Assignment won't be graded**. \n",
    "- There is one cell for your custom functions (if you need any) at the beginning of each question. Please note that this jupyter file might be broken down into 3 or 4 jupyter notebooks for easier grading, so you **must write your custom functions in the correct cell**.\n",
    "- By running the cell below, you can see if your jupyter file is accepted or not. This cell will also **generate a python file which you'll have to upload to Quera** (as well as your jupyter file). The python file will later be validated and if the code in both files doesn't match, **your Practical Assignment won't be graded**.\n",
    "- This assignment is due Azar 18th 23:59:59. you can use up to 10 grace days for this assignment and the hard deadline is Azar 28th 23:59:59."
   ]
  },
  {
   "cell_type": "code",
   "execution_count": 63,
   "metadata": {},
   "outputs": [
    {
     "name": "stdout",
     "output_type": "stream",
     "text": [
      "your jupyter file will be graded\n"
     ]
    }
   ],
   "source": [
    "# remember to save your jupyter file before running this script\n",
    "from Helper_codes.validator import *\n",
    "\n",
    "python_code = extract_python(\"./questions.ipynb\")\n",
    "with open(f'python_code_{student_number}.py', 'w') as file:\n",
    "    file.write(python_code)"
   ]
  },
  {
   "cell_type": "markdown",
   "metadata": {},
   "source": [
    "# Q1 (30+5 Points)"
   ]
  },
  {
   "cell_type": "markdown",
   "metadata": {},
   "source": [
    "<font size=4>\n",
    "Author: Pooya Moini\n",
    "\t\t\t<br/>\n",
    "                <font color=red>\n",
    "Please run all the cells.\n",
    "     </font>\n",
    "</font>\n",
    "                <br/>\n",
    "    </div>"
   ]
  },
  {
   "cell_type": "markdown",
   "metadata": {
    "collectable": true
   },
   "source": [
    "# Bayesian Networks"
   ]
  },
  {
   "cell_type": "markdown",
   "metadata": {},
   "source": [
    "In this programming assignment, we will investigate the structure of the binarized MNIST dataset of handwritten digits using Bayesian networks. The dataset contains images of handwritten digits with dimensions $28 \\times 28$ (784) pixels. Consider the Bayesian network in Figure 1 . The network contains two layers of variables. The variables in the bottom layer, $X_{1: 784}$ denote the pixel values of the flattened image. The variables in the top layer, $Z_{1}$ and $Z_{2}$, are referred to as latent variables, because the value of these variables will not be explicitly provided by the data and will have to be inferred."
   ]
  },
  {
   "cell_type": "markdown",
   "metadata": {},
   "source": [
    "![Figure1](./Images/fig1.png)"
   ]
  },
  {
   "cell_type": "markdown",
   "metadata": {},
   "source": [
    "The Bayesian network specifies a joint probability distribution over binary images and latent variables $p\\left(Z_{1}, Z_{2}, X_{1: 784}\\right)$. The model is trained so that the marginal probability of the manifest variables, $p\\left(x_{1: 784}\\right)=\\sum_{z_{1}, z_{2}} p\\left(z_{1}, z_{2}, x_{1: 784}\\right)$ is high on images that look like digits, and low for other images. \n",
    "\n",
    "For this programming assignment, we provide a pretrained model trained_mnist_model. The starter code loads this model and provides functions to directly access the conditional probability tables. Further, we simplify the problem by discretizing the latent and manifest variables such that $\\operatorname{Val}\\left(Z_{1}\\right)=\\operatorname{Val}\\left(Z_{2}\\right)=\\{-3,-2.75, \\ldots, 2.75,3\\}$ and $\\operatorname{Val}\\left(X_{j}\\right)=\\{0,1\\}$, i.e., the image is binary."
   ]
  },
  {
   "cell_type": "markdown",
   "metadata": {},
   "source": [
    "### 1. \n",
    "How many values can the random vector $X_{1: 784}$ take, i.e., how many different $28 \\times 28$ binary images are there?\n",
    "\n",
    "How many parameters would you need to specify an arbitrary probability distribution over all possible $28 \\times 28$ binary images? (5 points)"
   ]
  },
  {
   "cell_type": "markdown",
   "metadata": {},
   "source": [
    "2^784, 2^784 - 1"
   ]
  },
  {
   "cell_type": "code",
   "execution_count": 1,
   "metadata": {
    "collectable": true
   },
   "outputs": [],
   "source": [
    "from typing import Callable\n",
    "import random\n",
    "def get_sample_Z(get_p_z: Callable[[float], float]) -> float:\n",
    "    point = random.uniform(0, 1)\n",
    "    for z in disc_z1:\n",
    "        point -= get_p_z(z)\n",
    "        if point < 0:\n",
    "            return z\n",
    "    \n",
    "        \n",
    "def get_sample():\n",
    "    z1 = get_sample_Z(get_p_z1)\n",
    "    z2 = get_sample_Z(get_p_z2)\n",
    "    p_x = get_p_x_cond_z1_z2(z1, z2)\n",
    "    points = np.random.uniform(0, 1, size=NUM_PIXELS)\n",
    "    return z1, z2, (points < p_x).astype(int)"
   ]
  },
  {
   "cell_type": "markdown",
   "metadata": {},
   "source": [
    "Run below codes to load the network and its functions."
   ]
  },
  {
   "cell_type": "code",
   "execution_count": 2,
   "metadata": {},
   "outputs": [],
   "source": [
    "import numpy as np\n",
    "import matplotlib.pyplot as plt\n",
    "import pickle as pkl\n",
    "from scipy.io import loadmat\n",
    "\n",
    "\n",
    "NUM_PIXELS = 28*28"
   ]
  },
  {
   "cell_type": "code",
   "execution_count": 3,
   "metadata": {},
   "outputs": [],
   "source": [
    "def get_p_z1(z1_val):\n",
    "    '''\n",
    "    Helper. Computes the prior probability for variable z1 to take value z1_val.\n",
    "    P(Z1=z1_val)\n",
    "    '''\n",
    "\n",
    "    return bayes_net['prior_z1'][z1_val]\n",
    "\n",
    "\n",
    "def get_p_z2(z2_val):\n",
    "    '''\n",
    "    Helper. Computes the prior probability for variable z2 to take value z2_val.\n",
    "    P(Z2=z2_val)\n",
    "    '''\n",
    "\n",
    "    return bayes_net['prior_z2'][z2_val]\n"
   ]
  },
  {
   "cell_type": "code",
   "execution_count": 4,
   "metadata": {},
   "outputs": [],
   "source": [
    "def get_p_xk_cond_z1_z2(z1_val, z2_val, k):\n",
    "    '''\n",
    "    Helper. Computes the conditional probability that variable xk assumes value 1\n",
    "    given that z1 assumes value z1_val and z2 assumes value z2_val\n",
    "    P(Xk = 1 | Z1=z1_val , Z2=z2_val)\n",
    "    '''\n",
    "\n",
    "    return bayes_net['cond_likelihood'][(z1_val, z2_val)][0, k-1]\n",
    "\n",
    "\n",
    "def get_p_x_cond_z1_z2(z1_val, z2_val):\n",
    "    '''\n",
    "    Computes the conditional probability of the entire vector x for x = 1,\n",
    "    given that z1 assumes value z1_val and z2 assumes value z2_val\n",
    "    '''\n",
    "    pk = np.zeros(NUM_PIXELS)\n",
    "    for i in range(NUM_PIXELS):\n",
    "        pk[i] = get_p_xk_cond_z1_z2(z1_val, z2_val, i+1)\n",
    "    return pk"
   ]
  },
  {
   "cell_type": "code",
   "execution_count": 5,
   "metadata": {},
   "outputs": [],
   "source": [
    "def load_model(model_file):\n",
    "    '''\n",
    "    Loads a default Bayesian network with latent variables (in this case, a\n",
    "    variational autoencoder)\n",
    "    '''\n",
    "\n",
    "    with open('Helper_codes/trained_mnist_model', 'rb') as infile:\n",
    "        cpts = pkl.load(infile, encoding='bytes')\n",
    "\n",
    "    model = {}\n",
    "    model['prior_z1'] = cpts[0]\n",
    "    model['prior_z2'] = cpts[1]\n",
    "    model['cond_likelihood'] = cpts[2]\n",
    "\n",
    "    return model"
   ]
  },
  {
   "cell_type": "code",
   "execution_count": 6,
   "metadata": {},
   "outputs": [],
   "source": [
    "global disc_z1, disc_z2\n",
    "n_disc_z = 25\n",
    "disc_z1 = np.linspace(-3, 3, n_disc_z)\n",
    "disc_z2 = np.linspace(-3, 3, n_disc_z)\n",
    "\n",
    "global bayes_net\n",
    "bayes_net = load_model('Helper_codes/trained_mnist_model')"
   ]
  },
  {
   "cell_type": "markdown",
   "metadata": {},
   "source": [
    "### 2.\n",
    "Produce 5 samples from the joint probability distribution $\\left(z_{1}, z_{2}, x_{1: 784}\\right) \\sim p\\left(Z_{1}, Z_{2}, X_{1: 784}\\right)$, and plot the corresponding images (values of the pixel variables). (7 points)"
   ]
  },
  {
   "cell_type": "code",
   "execution_count": 7,
   "metadata": {
    "collectable": true
   },
   "outputs": [
    {
     "data": {
      "image/png": "[encoded data removed]",
      "text/plain": [
       "<Figure size 432x288 with 1 Axes>"
      ]
     },
     "metadata": {
      "needs_background": "light"
     },
     "output_type": "display_data"
    },
    {
     "data": {
      "image/png": "[encoded data removed]",
      "text/plain": [
       "<Figure size 432x288 with 1 Axes>"
      ]
     },
     "metadata": {
      "needs_background": "light"
     },
     "output_type": "display_data"
    },
    {
     "data": {
      "image/png": "[encoded data removed]",
      "text/plain": [
       "<Figure size 432x288 with 1 Axes>"
      ]
     },
     "metadata": {
      "needs_background": "light"
     },
     "output_type": "display_data"
    },
    {
     "data": {
      "image/png": "[encoded data removed]",
      "text/plain": [
       "<Figure size 432x288 with 1 Axes>"
      ]
     },
     "metadata": {
      "needs_background": "light"
     },
     "output_type": "display_data"
    },
    {
     "data": {
      "image/png": "[encoded data removed]",
      "text/plain": [
       "<Figure size 432x288 with 1 Axes>"
      ]
     },
     "metadata": {
      "needs_background": "light"
     },
     "output_type": "display_data"
    }
   ],
   "source": [
    "# write here\n",
    "samples = [get_sample() for _ in range(5)]\n",
    "images = np.array([sample[2].reshape((28, 28)) for sample in samples])\n",
    "for image in images:\n",
    "    plt.imshow(image, cmap='gray')\n",
    "    plt.title('Image')\n",
    "    plt.show()"
   ]
  },
  {
   "cell_type": "markdown",
   "metadata": {},
   "source": [
    "### 3.\n",
    "\n",
    "For each possible value of\n",
    "$$\n",
    "\\left(\\bar{z}_{1}, \\bar{z}_{2}\\right) \\in\\{-3,-2.75, \\ldots, 2.75,3\\} \\times\\{-3,-2.75, \\ldots, 2.75,3\\}\n",
    "$$\n",
    "compute the conditional expectation $E\\left[X_{1: 784} \\mid Z_{1}, Z_{2}=\\left(\\bar{z}_{1}, \\bar{z}_{2}\\right)\\right] .$ This is the expected image corresponding to each possible value of the latent variables $Z_{1}, Z_{2} .$ Plot the images on on a $2 \\mathrm{D}$ grid where the grid axes correspond to $Z_{1}$ and $Z_{2}$ respectively. What is the intuitive role of the $Z_{1}, Z_{2}$ variables in this model? (8 points)"
   ]
  },
  {
   "cell_type": "markdown",
   "metadata": {},
   "source": [
    "z1 shows how much curvy is the image of the digit\n",
    "z2 shows how much straight is the image of the digit"
   ]
  },
  {
   "cell_type": "code",
   "execution_count": 10,
   "metadata": {
    "collectable": true
   },
   "outputs": [
    {
     "data": {
      "image/png": "[encoded data removed]",
      "text/plain": [
       "<Figure size 432x288 with 1 Axes>"
      ]
     },
     "metadata": {
      "needs_background": "light"
     },
     "output_type": "display_data"
    }
   ],
   "source": [
    "image = np.zeros((25*28, 25*28))\n",
    "row = 25*28\n",
    "for z2 in disc_z2:\n",
    "    row -= 28\n",
    "    column = 0\n",
    "    for z1 in disc_z1:\n",
    "        image[row:row+28, column:column+28] = bayes_net['cond_likelihood'][(z1, z2)].reshape(28, 28)\n",
    "        column += 28\n",
    "plt.imshow(image, extent =[-3, 3, -3, 3])\n",
    "plt.xlabel('z1')\n",
    "plt.ylabel('z2')\n",
    "plt.show()"
   ]
  },
  {
   "cell_type": "code",
   "execution_count": 14,
   "metadata": {},
   "outputs": [],
   "source": [
    "mat = loadmat('Helper_codes/testval.mat')\n",
    "val_data = mat['val_x']\n",
    "test_data = mat['test_x']"
   ]
  },
  {
   "cell_type": "markdown",
   "metadata": {},
   "source": [
    "### 4.\n",
    "You are given a validation and a test dataset. In the test dataset, some images are \"real\" handwritten digits, and some are anomalous (corrupted images). We would like to use our Bayesian network to distinguish real images from the anomalous ones. Intuitively, our Bayesian network should assign low probability to corrupted images and high probability to the real ones, and we can use this for classification. To do this, we first compute the average marginal log-likelihood,\n",
    "$$\n",
    "\\log p\\left(x_{1: 784}\\right)=\\log \\sum_{z_{1}} \\sum_{z_{2}} p\\left(z_{1}, z_{2}, x_{1: 784}\\right)\n",
    "$$\n",
    "on the validation dataset, and the standard deviation (again, standard deviation over the validation set). Consider a simple prediction rule where images with marginal log-likelihood, $\\log p\\left(x_{1: 784}\\right)$, outside three standard deviations of the average marginal log-likelihood are classified as corrupted. Classify images in the test set as corrupted or real using this rule. Then plot a histogram of the marginal log-likelihood for the images classified as \"real\". Plot a separate histogram of the marginal log-likelihood for the images classified as \"corrupted\". (15 points)"
   ]
  },
  {
   "cell_type": "code",
   "execution_count": 18,
   "metadata": {
    "collectable": true
   },
   "outputs": [],
   "source": [
    "def get_log_p_x1_784(x1_784):\n",
    "    p = 0\n",
    "    for z2 in disc_z2:\n",
    "        for z1 in disc_z1:\n",
    "            p_z1z2 = get_p_z1(z1) * get_p_z2(z2)\n",
    "            p += np.prod(get_p_x1_784(z1, z2, x1_784)) * p_z1z2\n",
    "    p = 10**-100 if p == 0 else p\n",
    "    return np.log10(p)\n",
    "\n",
    "def get_p_x1_784(z1, z2, x1_784):\n",
    "    p = np.ones(784) - x1_784 - bayes_net['cond_likelihood'][(z1, z2)][0]\n",
    "    return np.where(p < 0, -p, p)\n",
    "\n",
    "\n",
    "log_likelihood_val_data = np.zeros(len(val_data))\n",
    "for i in range(len(val_data)):\n",
    "    log_likelihood_val_data[i] = get_log_p_x1_784(val_data[i])"
   ]
  },
  {
   "cell_type": "code",
   "execution_count": 19,
   "metadata": {
    "collectable": true
   },
   "outputs": [],
   "source": [
    "mean, std = log_likelihood_val_data.mean(), log_likelihood_val_data.std()\n",
    "real = np.array([])\n",
    "corrupted = np.array([])\n",
    "for data in test_data:\n",
    "    log_p_x1_784 = get_log_p_x1_784(data)\n",
    "    if abs(log_p_x1_784 - mean) <= 3 * std:\n",
    "        real = np.append(real, log_p_x1_784)\n",
    "    else:\n",
    "        corrupted = np.append(corrupted, log_p_x1_784)"
   ]
  },
  {
   "cell_type": "code",
   "execution_count": 20,
   "metadata": {
    "collectable": true
   },
   "outputs": [
    {
     "data": {
      "image/png": "[encoded data removed]",
      "text/plain": [
       "<Figure size 432x288 with 1 Axes>"
      ]
     },
     "metadata": {
      "needs_background": "light"
     },
     "output_type": "display_data"
    },
    {
     "data": {
      "image/png": "[encoded data removed]",
      "text/plain": [
       "<Figure size 432x288 with 1 Axes>"
      ]
     },
     "metadata": {
      "needs_background": "light"
     },
     "output_type": "display_data"
    }
   ],
   "source": [
    "def plot_histogram(array, title):\n",
    "    plt.hist(array)\n",
    "    plt.xlabel('marginal log-likelihood')\n",
    "    plt.title(title)\n",
    "    plt.show()\n",
    "\n",
    "plot_histogram(real, 'real')\n",
    "plot_histogram(corrupted, 'corrupted')"
   ]
  },
  {
   "cell_type": "markdown",
   "metadata": {},
   "source": [
    "---"
   ]
  },
  {
   "cell_type": "markdown",
   "metadata": {},
   "source": [
    "# Q2 (40 Points)"
   ]
  },
  {
   "cell_type": "markdown",
   "metadata": {},
   "source": [
    "<font size=4>\n",
    "Author: Mohammad Mahdi Asmae\n",
    "\t\t\t<br/>\n",
    "                <font color=red>\n",
    "Please run all the cells.\n",
    "     </font>\n",
    "</font>\n",
    "                <br/>\n",
    "    </div>"
   ]
  },
  {
   "cell_type": "markdown",
   "metadata": {
    "collectable": true
   },
   "source": [
    "# Sampling in Bayesian Network"
   ]
  },
  {
   "cell_type": "markdown",
   "metadata": {},
   "source": [
    "In this assignment, we will implement diffrent methods of sampling and try to compare the methods by varying queries and number of samples. In the next section you will implement Bayesian Network as a Python class with these methods:\n",
    "\n",
    "* CPT: returns conditional probability table of nodes\n",
    "* PMF: returns probability mass function of given query\n",
    "* Sampling: implementation of different sampling methods\n",
    "    \n",
    "We will use following BN in this problem."
   ]
  },
  {
   "cell_type": "markdown",
   "metadata": {},
   "source": [
    "<img src=\"Images/BN.png\" width=1400 height=1200 />"
   ]
  },
  {
   "cell_type": "code",
   "execution_count": 498,
   "metadata": {
    "collectable": true
   },
   "outputs": [],
   "source": [
    "############################################################\n",
    "# please set a random seed to get the same results in      #\n",
    "# different runs                                           #\n",
    "############################################################\n",
    "import random\n",
    "random.seed(5)"
   ]
  },
  {
   "cell_type": "code",
   "execution_count": 499,
   "metadata": {
    "collectable": true
   },
   "outputs": [],
   "source": [
    "import matplotlib.pyplot as plt\n",
    "\n",
    "graph = {}\n",
    "graph['A'] = [['D', 'C'], []]\n",
    "graph['B'] = [['E'], []]\n",
    "graph['C'] = [['D', 'G'], ['A', 'E']]\n",
    "graph['D'] = [['F', 'G'], ['A', 'C']]\n",
    "graph['E'] = [['C', 'G'], ['B']]\n",
    "graph['F'] = [[], ['D']]\n",
    "graph['G'] = [[], ['C', 'D', 'E']]\n",
    "CPT = {}\n",
    "CPT['A'] = {'1': 0.8, '0': 0.2}\n",
    "CPT['B'] = {'1': 0.55, '0': 0.45}\n",
    "CPT['C'] = {\n",
    "    '000': 0.3, '100': 0.7,\n",
    "    '010': 0.5, '110': 0.5,\n",
    "    '001': 0.85, '101': 0.15,\n",
    "    '011': 0.95, '111': 0.05\n",
    "}\n",
    "CPT['D'] = {\n",
    "    '000': 0.2, '100': 0.8,\n",
    "    '010': 0.5, '110': 0.5,\n",
    "    '001': 0.35, '101': 0.65,\n",
    "    '011': 0.33, '111': 0.67\n",
    "}\n",
    "CPT['E'] = {\n",
    "    '11': 0.3, '01': 0.7,\n",
    "    '10': 0.9, '00': 0.1\n",
    "}\n",
    "CPT['F'] = {\n",
    "    '11': 0.2, '01': 0.8,\n",
    "    '10': 0.25, '00': 0.75\n",
    "}\n",
    "CPT['G'] = {\n",
    "    '0000': 1, '1000': 0,\n",
    "    '0001': 1, '1001': 0,\n",
    "    '0010': 1, '1010': 0,\n",
    "    '0011': 1, '1011': 0,\n",
    "    '0100': 1, '1100': 0,\n",
    "    '0101': 1, '1101': 0,\n",
    "    '0110': 1, '1110': 0,\n",
    "    '0111': 1, '1111': 0,\n",
    "}"
   ]
  },
  {
   "cell_type": "code",
   "execution_count": 501,
   "metadata": {
    "collectable": true
   },
   "outputs": [],
   "source": [
    "class BN(object):\n",
    "    \"\"\"\n",
    "    Bayesian Network implementation with sampling methods as a class\n",
    "    \n",
    "    Attributes\n",
    "    ----------\n",
    "    n: int\n",
    "        number of variables\n",
    "        \n",
    "    G: dict\n",
    "        Network representation as a dictionary. \n",
    "        {variable:[[children],[parents]]} # You can represent the network in other ways. This is only a suggestion.\n",
    "    \"\"\"\n",
    "    \n",
    "    def __init__(self, graph, CPT) -> None:\n",
    "        ############################################################\n",
    "        # Initialzie Bayesian Network                              #\n",
    "        ############################################################\n",
    "        self.n = len(graph)\n",
    "        self.G = graph\n",
    "        self.set_topological_order()\n",
    "        self.CPT = CPT\n",
    "    \n",
    "    def cpt(self, node, parents_value) -> dict:\n",
    "        \"\"\"\n",
    "        This is a function that returns cpt of the given node\n",
    "        \n",
    "        Parameters\n",
    "        ----------\n",
    "        node:\n",
    "            a variable in the bayes' net\n",
    "            \n",
    "        Returns\n",
    "        -------\n",
    "        result: dict\n",
    "            {parents_value1: {node_value1:p_value1, node_value2:p_value2, ...}, parents_value2: ...}\n",
    "        \"\"\"\n",
    "        return self.CPT[node][parents_value]\n",
    "    \n",
    "    def pmf(self, query, evidence) -> float:\n",
    "        \"\"\"\n",
    "        This function gets a variable and its value as query and a list of evidences and returns probability mass function P(Q=q|E=e)\n",
    "        \n",
    "        Parameters\n",
    "        ----------\n",
    "        query:\n",
    "            a variable and its value\n",
    "            e.g. {'A': 1}\n",
    "        evidence:\n",
    "            list of variables and their values\n",
    "            e.g. {'B': 0, 'C': 1}\n",
    "        \n",
    "        Returns\n",
    "        -------\n",
    "        PMF: float\n",
    "            P(query|evidence)\n",
    "        \"\"\"\n",
    "        hidden_variables = [var for var in self.G if var not in query and var not in evidence]\n",
    "        factors = [[[var, *self.G[var][1]], CPT.copy()] for var, CPT in self.CPT.items()]\n",
    "        self.remove_nonmatching_evidences(evidence, factors)\n",
    "        for var in hidden_variables:\n",
    "            self.join_and_eliminate(var, factors, evidence)\n",
    "        joint_factor = self.get_join_all_factors(factors, query, evidence)\n",
    "        self.normalize(joint_factor)\n",
    "        row = ''.join([str(query[variable] if variable in query else evidence[variable]) for variable in joint_factor[0]])\n",
    "        return joint_factor[1][row]\n",
    "        \n",
    "    \n",
    "    def sampling(self, query, evidence, sampling_method, num_iter, num_burnin = 1e2) -> float:\n",
    "        \"\"\"\n",
    "        Parameters\n",
    "        ----------\n",
    "        query: list\n",
    "            list of variables an their values\n",
    "            e.g. {'A': 0, 'E': 1}\n",
    "        evidence: list\n",
    "            list of observed variables and their values\n",
    "            e.g. {'B': 0, 'C': 1}\n",
    "        sampling_method:\n",
    "            \"Prior\", \"Rejection\", \"Likelihood Weighting\", \"Gibbs\"\n",
    "        num_iter:\n",
    "            number of the generated samples \n",
    "        num_burnin:\n",
    "            (used only in gibbs sampling) number of samples that we ignore at the start for gibbs method to converge\n",
    "            \n",
    "        Returns\n",
    "        -------\n",
    "        probability: float\n",
    "            approximate P(query|evidence) calculated by sampling\n",
    "        \"\"\"\n",
    "        ############################################################\n",
    "        #     Prior sampling                                       #\n",
    "        #     Rejection sampling                                   #\n",
    "        #     Likelihood weighting                                 #\n",
    "        #     Gibbs sampling                                       #\n",
    "        ############################################################\n",
    "        if sampling_method == 'Prior':\n",
    "            return self.prior_sample(query, evidence, num_iter)\n",
    "        elif sampling_method == 'Rejection':\n",
    "            return self.rejection_sample(query, evidence, num_iter)\n",
    "        elif sampling_method == 'Likelihood Weighting':\n",
    "            return self.likelihood_sample(query, evidence, num_iter)\n",
    "        elif sampling_method == 'Gibbs':\n",
    "            return self.gibbs_sample(query, evidence, num_iter, num_burnin)\n",
    "        \n",
    "        \n",
    "    def prior_sample(self, query, evidence, num_iter):\n",
    "        count_consistent_evidence = 0\n",
    "        count_consistent_query = 0\n",
    "        for _ in range(num_iter):\n",
    "            sample = self.get_prior_sample()\n",
    "            if self.sample_consistent_with_evidence(sample, evidence):\n",
    "                count_consistent_evidence += 1\n",
    "                if self.sample_consistent_with_query(sample, query):\n",
    "                    count_consistent_query += 1\n",
    "        return count_consistent_query / count_consistent_evidence\n",
    "        \n",
    "        \n",
    "    def sample_consistent_with_evidence(self, sample, evidence):\n",
    "        for var, value in evidence.items():\n",
    "            if value != sample[var]:\n",
    "                return False\n",
    "        return True\n",
    "    \n",
    "    \n",
    "    def sample_consistent_with_query(self, sample, query):\n",
    "        for var, value in query.items():\n",
    "            if value != sample[var]:\n",
    "                return False\n",
    "        return True\n",
    "        \n",
    "        \n",
    "    def get_prior_sample(self):\n",
    "        sample = {}\n",
    "        for var in self.topological_order:\n",
    "            row = '0' + ''.join([str(sample[parent]) for parent in self.G[var][1]])\n",
    "            sample[var] = 0 if random.uniform(0, 1) < self.CPT[var][row] else 1\n",
    "        return sample\n",
    "    \n",
    "    \n",
    "    def rejection_sample(self, query, evidence, num_iter):\n",
    "        count_consistent_query = 0\n",
    "        for _ in range(num_iter):\n",
    "            sample = self.get_rejection_sample(evidence)\n",
    "            if self.sample_consistent_with_query(sample, query):\n",
    "                count_consistent_query += 1\n",
    "        return count_consistent_query / num_iter\n",
    "    \n",
    "    \n",
    "    def get_rejection_sample(self, evidence):\n",
    "        sample = self.get_prior_sample()\n",
    "        while not self.sample_consistent_with_evidence(sample, evidence):\n",
    "            sample = self.get_prior_sample()\n",
    "        return sample\n",
    "    \n",
    "    \n",
    "    def likelihood_sample(self, query, evidence, num_iter):\n",
    "        all_weight = 0\n",
    "        consistent_query_weight = 0\n",
    "        for _ in range(num_iter):\n",
    "            sample, weight = self.get_likelihood_sample(evidence)\n",
    "            all_weight += weight\n",
    "            if self.sample_consistent_with_query(sample, query):\n",
    "                consistent_query_weight += weight\n",
    "        return consistent_query_weight / all_weight\n",
    "    \n",
    "    \n",
    "    def get_likelihood_sample(self, evidence):\n",
    "        sample = evidence.copy()\n",
    "        weight = 1\n",
    "        for var in self.topological_order:\n",
    "            parents_values = ''.join([str(sample[parent]) for parent in self.G[var][1]])\n",
    "            if var in evidence:\n",
    "                row = str(evidence[var]) + parents_values\n",
    "                weight *= self.CPT[var][row]\n",
    "            else:\n",
    "                row = '0' + parents_values\n",
    "                sample[var] = 0 if random.uniform(0, 1) < self.CPT[var][row] else 1\n",
    "        return sample, weight\n",
    "            \n",
    "        \n",
    "    def gibbs_sample(self, query, evidence, num_iter, num_burnin):\n",
    "        count_consistent_query = 0\n",
    "        nonevidence_vars = [var for var in self.G if var not in evidence]\n",
    "        for i in range(num_iter+int(num_burnin)):\n",
    "            chosen_var = nonevidence_vars[i % len(nonevidence_vars)]\n",
    "            if i == 0:\n",
    "                sample = self.get_randomly_sample(evidence)\n",
    "            else:\n",
    "                self.set_gibbs_sample(chosen_var, sample) \n",
    "            if i >= num_burnin and self.sample_consistent_with_query(sample, query):\n",
    "                count_consistent_query += 1\n",
    "        return count_consistent_query / num_iter\n",
    "    \n",
    "    \n",
    "    def get_randomly_sample(self, evidence):\n",
    "        return {**{var: random.choice([0, 1]) for var in self.G if var not in evidence}, **evidence}\n",
    "            \n",
    "                \n",
    "    def set_gibbs_sample(self, chosen_var, sample):\n",
    "        del sample[chosen_var]\n",
    "        sample[chosen_var] = 0 if random.uniform(0, 1) < self.pmf({chosen_var: 0}, sample) else 1\n",
    "        \n",
    "    \n",
    "    def set_topological_order(self):\n",
    "        self.topological_order = []\n",
    "        visited = {node: False for node in self.G}\n",
    "        for node, neighbors in self.G.items():\n",
    "            if len(neighbors[1]) == 0:\n",
    "                self.topological_sort(node, visited)\n",
    "    \n",
    "    \n",
    "    def topological_sort(self, node, visited):\n",
    "        visited[node] = True\n",
    "        self.topological_order.append(node)\n",
    "        for child in self.G[node][0]:\n",
    "            if not visited[child] and self.all_parents_visited(child, visited):\n",
    "                self.topological_sort(child, visited)\n",
    "             \n",
    "            \n",
    "    def all_parents_visited(self, node, visited) -> bool:\n",
    "        for parent in self.G[node][1]:\n",
    "            if not visited[parent]:\n",
    "                return False\n",
    "        return True\n",
    "           \n",
    "        \n",
    "    def remove_nonmatching_evidences(self, evidence, factors):\n",
    "        for var, value in evidence.items():\n",
    "            for factor in factors:\n",
    "                if var in factor[0]:\n",
    "                    index_var = factor[0].index(var)\n",
    "                    rows_to_remove = [values for values in factor[1] if values[index_var] != str(value)]\n",
    "                    for row in rows_to_remove:\n",
    "                        del factor[1][row]\n",
    "               \n",
    "            \n",
    "    def join_and_eliminate(self, var, factors, evidence):\n",
    "        var_factors = self.get_var_factors(var, factors)\n",
    "        joined_factor = self.get_joined_factor(var_factors, var, evidence)\n",
    "        factors.append(joined_factor)\n",
    "        \n",
    "        \n",
    "    def get_joined_factor(self, var_factors, var, evidence):\n",
    "        variables_in_joined_factor = self.get_variables_in_joined_factor(var_factors, var, evidence)\n",
    "        evidence_values = ''.join([str(evidence[variable]) for variable in variables_in_joined_factor[1]])\n",
    "        prob_table_joined_factor = {}\n",
    "        for i in range(2**len(variables_in_joined_factor[0])):\n",
    "            if len(variables_in_joined_factor[0]) != 0:\n",
    "                binary_values = '{:b}'.format(i)\n",
    "                values = '0' * (len(variables_in_joined_factor[0]) - len(binary_values)) + binary_values\n",
    "            else:\n",
    "                values = ''\n",
    "            probability0 = 1\n",
    "            probability1 = 1\n",
    "            for factor in var_factors:\n",
    "                row0, row1 = self.get_rows_factor(factor, var, evidence, values, variables_in_joined_factor)\n",
    "                probability0 *= factor[1][row0] \n",
    "                probability1 *= factor[1][row1]\n",
    "            probability = probability0 + probability1\n",
    "            row = values + evidence_values\n",
    "            prob_table_joined_factor[row] = probability\n",
    "        return [[*variables_in_joined_factor[0], *variables_in_joined_factor[1]], prob_table_joined_factor]\n",
    "    \n",
    "    \n",
    "    def get_rows_factor(self, factor, var, evidence, values, variables_in_joined_factor):\n",
    "        row0 = ''\n",
    "        row1 = ''\n",
    "        for variable in factor[0]:\n",
    "            if variable == var:\n",
    "                row0 += '0'\n",
    "                row1 += '1'\n",
    "            elif variable in evidence:\n",
    "                row0 += str(evidence[variable])\n",
    "                row1 += str(evidence[variable])\n",
    "            else:\n",
    "                row0 += values[variables_in_joined_factor[0].index(variable)]\n",
    "                row1 += values[variables_in_joined_factor[0].index(variable)]\n",
    "        return row0, row1\n",
    "    \n",
    "        \n",
    "    def get_var_factors(self, var, factors):\n",
    "        var_factors = []\n",
    "        for factor in factors.copy():\n",
    "            if var in factor[0]:\n",
    "                var_factors.append(factor)\n",
    "                factors.remove(factor)\n",
    "        return var_factors\n",
    "             \n",
    "        \n",
    "    def get_variables_in_joined_factor(self, var_factors, var, evidence):\n",
    "        factors_variables = []\n",
    "        for factor in var_factors:\n",
    "            factors_variables += factor[0]\n",
    "        factors_variables = list(set(factors_variables)-{var})\n",
    "        evidence_variables_in_joined_factor = []\n",
    "        nonevidence_variables_in_joined_factor = []\n",
    "        for variable in factors_variables:\n",
    "            if variable in evidence:\n",
    "                evidence_variables_in_joined_factor.append(variable)\n",
    "            else:\n",
    "                nonevidence_variables_in_joined_factor.append(variable)\n",
    "        return [nonevidence_variables_in_joined_factor, evidence_variables_in_joined_factor]\n",
    "    \n",
    "    \n",
    "    def get_join_all_factors(self, factors, query, evidence):\n",
    "        prob_table_joined_factor = {}\n",
    "        query_vars = list(query.keys())\n",
    "        evidence_vars = list(evidence.keys())\n",
    "        evidence_values = ''.join([str(evidence[variable]) for variable in evidence_vars])\n",
    "        for i in range(2**len(query)):\n",
    "            binary_values = '{:b}'.format(i)\n",
    "            values = '0' * (len(query) - len(binary_values)) + binary_values\n",
    "            probability = 1\n",
    "            for factor in factors:\n",
    "                factor_row = self.get_row_factor(factor, query_vars, evidence, values)\n",
    "                probability *= factor[1][factor_row] \n",
    "            row = values + evidence_values\n",
    "            prob_table_joined_factor[row] = probability\n",
    "        return [[*query_vars, *evidence_vars], prob_table_joined_factor]\n",
    "    \n",
    "    \n",
    "    def get_row_factor(self, factor, query_vars, evidence, values):\n",
    "        row = ''\n",
    "        for variable in factor[0]:\n",
    "            if variable in evidence:\n",
    "                row += str(evidence[variable])\n",
    "            else:\n",
    "                row += values[query_vars.index(variable)]\n",
    "        return row\n",
    "    \n",
    "    \n",
    "    def normalize(self, joint_factor):\n",
    "        sum = 0\n",
    "        for probability in list(joint_factor[1].values()):\n",
    "            sum += probability\n",
    "        if sum == 0:\n",
    "            return\n",
    "        for row in joint_factor[1]:\n",
    "            joint_factor[1][row] /= sum\n",
    "            "
   ]
  },
  {
   "cell_type": "markdown",
   "metadata": {},
   "source": [
    "In this part you will compare sampling results with real probabilities for these settings:\n",
    "\n",
    "* query: $P(F=1|A=1,E=0)$ , $P(C=0,B=1|F=1,D=0)$\n",
    "* number of samples: 100, 500, 1000, 3000, 10000, 50000\n",
    "\n",
    "First find the probabilities with inference methods, then find the approximate probabilities for the queries with sampling methods with different number of samples. At the end, you will plot errors of diffrent methods by number of samples."
   ]
  },
  {
   "cell_type": "code",
   "execution_count": 505,
   "metadata": {
    "collectable": true
   },
   "outputs": [],
   "source": [
    "############################################################\n",
    "# x-axis: number of samples                                #\n",
    "# y-axis: error                                            #\n",
    "# Your plot have to contain errors for all diffrent        #\n",
    "# methods of sampling that you've implemented              #\n",
    "############################################################\n",
    "random.seed(5)\n",
    "bayes_net = BN(graph, CPT)\n",
    "num_samples = [100, 500, 1000, 3000, 10000, 50000]\n",
    "sampling_methods = ['Prior', 'Rejection', 'Likelihood Weighting', 'Gibbs']\n",
    "def plot(title, x, y, xlabel, ylabel):\n",
    "    plt.xlabel(xlabel)\n",
    "    plt.ylabel(ylabel)\n",
    "    plt.title(title)\n",
    "    plt.scatter(x, y)\n",
    "    for i, j in zip(x, y):\n",
    "        plt.text(i, j, '({}, {})'.format(i, j))\n",
    "    plt.show()\n",
    "\n",
    "    \n",
    "def comparing_results(query, evidence):\n",
    "    prob = bayes_net.pmf(query, evidence)\n",
    "    for method in sampling_methods: \n",
    "        error_sampling = [round(bayes_net.sampling(query, evidence, method, num)-prob, 5) for num in num_samples]\n",
    "        plot(method, num_samples, error_sampling, 'number of samples', 'errors')"
   ]
  },
  {
   "cell_type": "code",
   "execution_count": 506,
   "metadata": {
    "collectable": true
   },
   "outputs": [
    {
     "data": {
      "image/png": "[encoded data removed]",
      "text/plain": [
       "<Figure size 432x288 with 1 Axes>"
      ]
     },
     "metadata": {
      "needs_background": "light"
     },
     "output_type": "display_data"
    },
    {
     "data": {
      "image/png": "[encoded data removed]",
      "text/plain": [
       "<Figure size 432x288 with 1 Axes>"
      ]
     },
     "metadata": {
      "needs_background": "light"
     },
     "output_type": "display_data"
    },
    {
     "data": {
      "image/png": "[encoded data removed]",
      "text/plain": [
       "<Figure size 432x288 with 1 Axes>"
      ]
     },
     "metadata": {
      "needs_background": "light"
     },
     "output_type": "display_data"
    },
    {
     "data": {
      "image/png": "[encoded data removed]",
      "text/plain": [
       "<Figure size 432x288 with 1 Axes>"
      ]
     },
     "metadata": {
      "needs_background": "light"
     },
     "output_type": "display_data"
    }
   ],
   "source": [
    "random.seed(5)\n",
    "query = {'F': 1}\n",
    "evidence = {'A': 1, 'E': 0}\n",
    "comparing_results(query, evidence)"
   ]
  },
  {
   "cell_type": "code",
   "execution_count": 507,
   "metadata": {
    "collectable": true
   },
   "outputs": [
    {
     "data": {
      "image/png": "[encoded data removed]",
      "text/plain": [
       "<Figure size 432x288 with 1 Axes>"
      ]
     },
     "metadata": {
      "needs_background": "light"
     },
     "output_type": "display_data"
    },
    {
     "data": {
      "image/png": "[encoded data removed]",
      "text/plain": [
       "<Figure size 432x288 with 1 Axes>"
      ]
     },
     "metadata": {
      "needs_background": "light"
     },
     "output_type": "display_data"
    },
    {
     "data": {
      "image/png": "[encoded data removed]",
      "text/plain": [
       "<Figure size 432x288 with 1 Axes>"
      ]
     },
     "metadata": {
      "needs_background": "light"
     },
     "output_type": "display_data"
    },
    {
     "data": {
      "image/png": "[encoded data removed]",
      "text/plain": [
       "<Figure size 432x288 with 1 Axes>"
      ]
     },
     "metadata": {
      "needs_background": "light"
     },
     "output_type": "display_data"
    }
   ],
   "source": [
    "random.seed(5)\n",
    "query = {'C': 0, 'B': 1}\n",
    "evidence = {'F': 1, 'D': 0}\n",
    "comparing_results(query, evidence)"
   ]
  },
  {
   "cell_type": "markdown",
   "metadata": {},
   "source": [
    "For Gibbs sampling, try diffrent burnin values and report the accuracy (or error)."
   ]
  },
  {
   "cell_type": "code",
   "execution_count": 508,
   "metadata": {
    "collectable": true
   },
   "outputs": [
    {
     "data": {
      "image/png": "[encoded data removed]",
      "text/plain": [
       "<Figure size 432x288 with 1 Axes>"
      ]
     },
     "metadata": {
      "needs_background": "light"
     },
     "output_type": "display_data"
    }
   ],
   "source": [
    "random.seed(5)\n",
    "query = {'C': 0, 'B': 1}\n",
    "evidence = {'F': 1, 'D': 0}\n",
    "prob = bayes_net.pmf(query, evidence)\n",
    "burnin_values = [100, 200, 500, 1000, 3000, 10000]\n",
    "error_sampling = [round(bayes_net.sampling(query, evidence, 'Gibbs', 10000, num_burnin)-prob, 5) for num_burnin in burnin_values]\n",
    "plot('Gibbs sampling for diffrent burnin values', burnin_values, error_sampling, 'num_burnin','error')\n"
   ]
  },
  {
   "cell_type": "markdown",
   "metadata": {},
   "source": [
    "# Q3 (20+ 5 Points)"
   ]
  },
  {
   "cell_type": "markdown",
   "metadata": {},
   "source": [
    "<font size=4>\n",
    "Author: Kian Bakhtari\n",
    "\t\t\t<br/>\n",
    "                <font color=red>\n",
    "Please run all the cells.\n",
    "     </font>\n",
    "</font>\n",
    "                <br/>\n",
    "    </div>"
   ]
  },
  {
   "cell_type": "markdown",
   "metadata": {},
   "source": [
    "## The Puerto Princesa ship"
   ]
  },
  {
   "cell_type": "markdown",
   "metadata": {},
   "source": [
    "At midnight on a fall day in the Philippines, a ship leaves Puerto Princesa City's seaport to Macao, China. After one or two hours, the boat loses its GPS connection because of a technical issue. Captain keeps navigating the ship to its destination, using the stars and four old radio towers, which you can see on the map. Each antenna could measure the ship's coordinates (X, Y) and send them to its receiver. There are five records of towers signals at five different times, available for you in the records.json file. Also, the boat's actual coordinates are available in the real_coordinates.json file. The exact coordinates are ONLY FOR EVALUATION PURPOSES, and you CAN NOT use them as input data. The five dots on the map below are actual coordinates of the ship, at each time step where the records from antennas were received. Also, the map is decorative and is not part of the data."
   ]
  },
  {
   "cell_type": "markdown",
   "metadata": {},
   "source": [
    "![Figure3-1](./Images/map.png)"
   ]
  },
  {
   "cell_type": "markdown",
   "metadata": {},
   "source": [
    "Each tower has a noise that is coming from a gaussian distribution, meaning that every (X, Y) pair that is received from an antenna is actually derived from:\n",
    "\n",
    "X = sample_from_normal_distribution(mean = X_real, std = antenna's std)\n",
    "Y = sample_from_normal_distribution(mean = Y_real, std = antenna's std)\n",
    "\n",
    "Information of radio towers (coordinate and noise standard deviation) is available in the towers_info.json file.\n",
    "\n",
    "The ship's movement between those five different time steps could be mathematically modeled as follows:\n",
    "At each time step, the ship moves D units to the north and F units to either east or west (half of the times west, and half of the times east). D and F are both samples from exponential distributions with a scale of Y_STEP and X_STEP, respectively. Those parameters are available in the moving_model.json file."
   ]
  },
  {
   "cell_type": "markdown",
   "metadata": {},
   "source": [
    "### Hidden Markov Model"
   ]
  },
  {
   "cell_type": "markdown",
   "metadata": {},
   "source": [
    "At this point, you can build a simple HMM and estimate the ship's coordinates using the conditional probabilities that you have. For each time step, calculate the ship's coordinates at that time step and previous time steps, using the tower records received up to that time. In simpler words, calculate:<br>\n",
    "\n",
    "P(coor_0 | records_0)<br>\n",
    "P(coor_1 | records_0, records_1)<br>\n",
    "...<br>\n",
    "P(coor_4 | records_0, records_1, records_2, records_3, records_4)<br>\n"
   ]
  },
  {
   "cell_type": "markdown",
   "metadata": {},
   "source": [
    "The actual coordinates of the ship in the first time step (coor_0) is coming from a 2-dimensional guassian distribution with the mean of Puerto Princesa city's coordinates and covarianve matrix of INIT_COV (scalar) times the identity matrix. INIT_COV and coordinates of Puerto Princesa city is availabel in moving_model.json file."
   ]
  },
  {
   "cell_type": "markdown",
   "metadata": {},
   "source": [
    "## Libraries"
   ]
  },
  {
   "cell_type": "code",
   "execution_count": 22,
   "metadata": {},
   "outputs": [],
   "source": [
    "import numpy as np\n",
    "import pandas as pd\n",
    "from matplotlib import pyplot as plt\n",
    "import json\n",
    "\n",
    "from scipy.stats import norm, expon\n",
    "import scipy\n",
    "import pandas as pd"
   ]
  },
  {
   "cell_type": "markdown",
   "metadata": {},
   "source": [
    "## Data"
   ]
  },
  {
   "cell_type": "code",
   "execution_count": 23,
   "metadata": {},
   "outputs": [
    {
     "data": {
      "text/html": [
       "<div>\n",
       "<style scoped>\n",
       "    .dataframe tbody tr th:only-of-type {\n",
       "        vertical-align: middle;\n",
       "    }\n",
       "\n",
       "    .dataframe tbody tr th {\n",
       "        vertical-align: top;\n",
       "    }\n",
       "\n",
       "    .dataframe thead th {\n",
       "        text-align: right;\n",
       "    }\n",
       "</style>\n",
       "<table border=\"1\" class=\"dataframe\">\n",
       "  <thead>\n",
       "    <tr style=\"text-align: right;\">\n",
       "      <th></th>\n",
       "      <th>X</th>\n",
       "      <th>Y</th>\n",
       "    </tr>\n",
       "  </thead>\n",
       "  <tbody>\n",
       "    <tr>\n",
       "      <th>0</th>\n",
       "      <td>1087.233417</td>\n",
       "      <td>-57.165368</td>\n",
       "    </tr>\n",
       "    <tr>\n",
       "      <th>1</th>\n",
       "      <td>1044.936241</td>\n",
       "      <td>72.343990</td>\n",
       "    </tr>\n",
       "    <tr>\n",
       "      <th>2</th>\n",
       "      <td>967.051182</td>\n",
       "      <td>392.826826</td>\n",
       "    </tr>\n",
       "    <tr>\n",
       "      <th>3</th>\n",
       "      <td>314.440277</td>\n",
       "      <td>1219.678719</td>\n",
       "    </tr>\n",
       "    <tr>\n",
       "      <th>4</th>\n",
       "      <td>590.424895</td>\n",
       "      <td>1413.279887</td>\n",
       "    </tr>\n",
       "  </tbody>\n",
       "</table>\n",
       "</div>"
      ],
      "text/plain": [
       "             X            Y\n",
       "0  1087.233417   -57.165368\n",
       "1  1044.936241    72.343990\n",
       "2   967.051182   392.826826\n",
       "3   314.440277  1219.678719\n",
       "4   590.424895  1413.279887"
      ]
     },
     "execution_count": 23,
     "metadata": {},
     "output_type": "execute_result"
    }
   ],
   "source": [
    "real_coordinates = json.load(open('./inputs/real_coordinates.json'))\n",
    "pd.DataFrame(real_coordinates)"
   ]
  },
  {
   "cell_type": "code",
   "execution_count": 24,
   "metadata": {},
   "outputs": [
    {
     "data": {
      "text/html": [
       "<div>\n",
       "<style scoped>\n",
       "    .dataframe tbody tr th:only-of-type {\n",
       "        vertical-align: middle;\n",
       "    }\n",
       "\n",
       "    .dataframe tbody tr th {\n",
       "        vertical-align: top;\n",
       "    }\n",
       "\n",
       "    .dataframe thead th {\n",
       "        text-align: right;\n",
       "    }\n",
       "</style>\n",
       "<table border=\"1\" class=\"dataframe\">\n",
       "  <thead>\n",
       "    <tr style=\"text-align: right;\">\n",
       "      <th></th>\n",
       "      <th>1</th>\n",
       "      <th>2</th>\n",
       "      <th>3</th>\n",
       "      <th>4</th>\n",
       "    </tr>\n",
       "  </thead>\n",
       "  <tbody>\n",
       "    <tr>\n",
       "      <th>x</th>\n",
       "      <td>1405</td>\n",
       "      <td>10</td>\n",
       "      <td>210</td>\n",
       "      <td>630</td>\n",
       "    </tr>\n",
       "    <tr>\n",
       "      <th>y</th>\n",
       "      <td>600</td>\n",
       "      <td>880</td>\n",
       "      <td>1890</td>\n",
       "      <td>2090</td>\n",
       "    </tr>\n",
       "    <tr>\n",
       "      <th>std</th>\n",
       "      <td>60</td>\n",
       "      <td>110</td>\n",
       "      <td>90</td>\n",
       "      <td>80</td>\n",
       "    </tr>\n",
       "  </tbody>\n",
       "</table>\n",
       "</div>"
      ],
      "text/plain": [
       "        1    2     3     4\n",
       "x    1405   10   210   630\n",
       "y     600  880  1890  2090\n",
       "std    60  110    90    80"
      ]
     },
     "execution_count": 24,
     "metadata": {},
     "output_type": "execute_result"
    }
   ],
   "source": [
    "towers_info = json.load(open('./inputs/towers_info.json'))\n",
    "pd.DataFrame(towers_info)"
   ]
  },
  {
   "cell_type": "code",
   "execution_count": 25,
   "metadata": {},
   "outputs": [
    {
     "data": {
      "text/plain": [
       "{'X_STEP': 300,\n",
       " 'Y_STEP': 600,\n",
       " 'INIT_COV': 200,\n",
       " 'Peurto_coordinates': [1105, -50]}"
      ]
     },
     "execution_count": 25,
     "metadata": {},
     "output_type": "execute_result"
    }
   ],
   "source": [
    "moving_model = json.load(open('./inputs/moving_model.json'))\n",
    "moving_model"
   ]
  },
  {
   "cell_type": "code",
   "execution_count": 26,
   "metadata": {},
   "outputs": [
    {
     "data": {
      "text/html": [
       "<div>\n",
       "<style scoped>\n",
       "    .dataframe tbody tr th:only-of-type {\n",
       "        vertical-align: middle;\n",
       "    }\n",
       "\n",
       "    .dataframe tbody tr th {\n",
       "        vertical-align: top;\n",
       "    }\n",
       "\n",
       "    .dataframe thead th {\n",
       "        text-align: right;\n",
       "    }\n",
       "</style>\n",
       "<table border=\"1\" class=\"dataframe\">\n",
       "  <thead>\n",
       "    <tr style=\"text-align: right;\">\n",
       "      <th></th>\n",
       "      <th>Tower1</th>\n",
       "      <th>Tower2</th>\n",
       "      <th>Tower3</th>\n",
       "      <th>Tower4</th>\n",
       "    </tr>\n",
       "  </thead>\n",
       "  <tbody>\n",
       "    <tr>\n",
       "      <th>0</th>\n",
       "      <td>[994, -36]</td>\n",
       "      <td>[873, -28]</td>\n",
       "      <td>[958, 70]</td>\n",
       "      <td>[1077, -128]</td>\n",
       "    </tr>\n",
       "    <tr>\n",
       "      <th>1</th>\n",
       "      <td>[1053, 63]</td>\n",
       "      <td>[926, 26]</td>\n",
       "      <td>[961, 110]</td>\n",
       "      <td>[905, 82]</td>\n",
       "    </tr>\n",
       "    <tr>\n",
       "      <th>2</th>\n",
       "      <td>[956, 389]</td>\n",
       "      <td>[1106, 499]</td>\n",
       "      <td>[1005, 397]</td>\n",
       "      <td>[901, 326]</td>\n",
       "    </tr>\n",
       "    <tr>\n",
       "      <th>3</th>\n",
       "      <td>[331, 1227]</td>\n",
       "      <td>[377, 1232]</td>\n",
       "      <td>[270, 1282]</td>\n",
       "      <td>[232, 1051]</td>\n",
       "    </tr>\n",
       "    <tr>\n",
       "      <th>4</th>\n",
       "      <td>[520, 1376]</td>\n",
       "      <td>[577, 1446]</td>\n",
       "      <td>[397, 1456]</td>\n",
       "      <td>[648, 1364]</td>\n",
       "    </tr>\n",
       "  </tbody>\n",
       "</table>\n",
       "</div>"
      ],
      "text/plain": [
       "        Tower1       Tower2       Tower3        Tower4\n",
       "0   [994, -36]   [873, -28]    [958, 70]  [1077, -128]\n",
       "1   [1053, 63]    [926, 26]   [961, 110]     [905, 82]\n",
       "2   [956, 389]  [1106, 499]  [1005, 397]    [901, 326]\n",
       "3  [331, 1227]  [377, 1232]  [270, 1282]   [232, 1051]\n",
       "4  [520, 1376]  [577, 1446]  [397, 1456]   [648, 1364]"
      ]
     },
     "execution_count": 26,
     "metadata": {},
     "output_type": "execute_result"
    }
   ],
   "source": [
    "records = json.load(open('./inputs/records.json'))\n",
    "pd.DataFrame(records)"
   ]
  },
  {
   "cell_type": "markdown",
   "metadata": {},
   "source": [
    "## Functions"
   ]
  },
  {
   "cell_type": "code",
   "execution_count": 27,
   "metadata": {},
   "outputs": [],
   "source": [
    "tower_records = [(records.get('Tower1')[i],\n",
    "                  records.get('Tower2')[i], \n",
    "                  records.get('Tower3')[i], \n",
    "                  records.get('Tower4')[i]) for i in range(5)]"
   ]
  },
  {
   "cell_type": "code",
   "execution_count": 28,
   "metadata": {},
   "outputs": [
    {
     "data": {
      "text/plain": [
       "[([994, -36], [873, -28], [958, 70], [1077, -128]),\n",
       " ([1053, 63], [926, 26], [961, 110], [905, 82]),\n",
       " ([956, 389], [1106, 499], [1005, 397], [901, 326]),\n",
       " ([331, 1227], [377, 1232], [270, 1282], [232, 1051]),\n",
       " ([520, 1376], [577, 1446], [397, 1456], [648, 1364])]"
      ]
     },
     "execution_count": 28,
     "metadata": {},
     "output_type": "execute_result"
    }
   ],
   "source": [
    "tower_records"
   ]
  },
  {
   "cell_type": "code",
   "execution_count": 31,
   "metadata": {
    "collectable": true
   },
   "outputs": [],
   "source": [
    "def get_mean_towers_coor(time_step: int, tower_records: list):\n",
    "    # The average of all four towers measurements at a given time step\n",
    "    x = np.average([tower_coor[0] for tower_coor in tower_records[time_step]])\n",
    "    y = np.average([tower_coor[1] for tower_coor in tower_records[time_step]])\n",
    "    return x, y\n",
    "\n",
    "\n",
    "def P_coor0(coor0):\n",
    "    # Distribuiton of initial coordinates (time step 0)\n",
    "    x0, y0 = coor0\n",
    "    return scipy.stats.multivariate_normal.pdf([x0, y0], \n",
    "                            mean=moving_model.get('Peurto_coordinates'), cov=moving_model.get('INIT_COV'))\n",
    "\n",
    "\n",
    "# filling these three functions with apropriate codes:\n",
    "\n",
    "def P_coor_given_prevCoor(coor, prev_coor):\n",
    "    # Probability of coordinates at time step i, given the coordinates of time step i-1\n",
    "    x_movement = abs(coor[0] - prev_coor[0])\n",
    "    y_movement = coor[1] - prev_coor[1]\n",
    "    pdf_y_movement = 0 if y_movement < 0 else expon.pdf(y_movement, scale=moving_model['Y_STEP'])\n",
    "    pdf_x_movement = 1/2 * expon.pdf(x_movement, scale=moving_model['X_STEP'])\n",
    "    return pdf_x_movement, pdf_y_movement\n",
    "\n",
    "    \n",
    "def P_towerCoor_given_coor(tower_coor, tower_std, coor):\n",
    "    # Probability of a tower measurement, given the coordinates of the ship\n",
    "    return norm.pdf(tower_coor[0], loc=coor[0], scale=tower_std), norm.pdf(tower_coor[1], loc=coor[1], scale=tower_std)\n",
    "    \n",
    "    \n",
    "def P_record_given_coor(rec, coor, towers_info):\n",
    "    # All four measurements of all four towers at time step i, is called the record of thime step i.\n",
    "    # This function returns the probability of a record given the ship's coordinates.\n",
    "    probability = np.array([1., 1.])\n",
    "    for tower_num, tower_coor in enumerate(rec):\n",
    "        probability *= np.array(P_towerCoor_given_coor(tower_coor, towers_info[str(tower_num+1)]['std'], coor))\n",
    "    return probability\n"
   ]
  },
  {
   "cell_type": "code",
   "execution_count": 32,
   "metadata": {
    "collectable": true
   },
   "outputs": [],
   "source": [
    "# extra space\n",
    "def gradient_descent(func, x0, y0, iter_num):\n",
    "    x, y = x0, y0\n",
    "    for _ in range(iter_num):\n",
    "        if gradient(func, x, y) == (0, 0):\n",
    "            break\n",
    "        if abs(gradient(func, x, y)[0]) > abs(gradient(func, x, y)[1]):\n",
    "            x = x - 1 if gradient(func, x, y)[0] > 0 else x + 1\n",
    "            if abs(gradient(func, x, y)[0]) < 10**3 * abs(gradient(func, x, y)[1]):\n",
    "                y = y - 1 if gradient(func, x, y)[1] > 0 else y + 1\n",
    "        else:\n",
    "            if abs(gradient(func, x, y)[1]) < 10**3 * abs(gradient(func, x, y)[0]):\n",
    "                x = x - 1 if gradient(func, x, y)[0] > 0 else x + 1\n",
    "            y = y - 1 if gradient(func, x, y)[1] > 0 else y + 1\n",
    "    return x, y\n",
    "\n",
    "def gradient(func, x, y):\n",
    "    return (func(x + 1, y) - func(x, y)) / 1, (func(x, y + 1) - func(x, y)) / 1"
   ]
  },
  {
   "cell_type": "code",
   "execution_count": 33,
   "metadata": {
    "collectable": true
   },
   "outputs": [
    {
     "data": {
      "text/plain": [
       "(1091.5, -48.5)"
      ]
     },
     "execution_count": 33,
     "metadata": {},
     "output_type": "execute_result"
    }
   ],
   "source": [
    "x0, y0 = get_mean_towers_coor(0, tower_records)\n",
    "iter_num = 1000\n",
    "rec0 = tower_records[0]\n",
    "Px = lambda x, y: -P_record_given_coor(rec0, [x, y], towers_info)[0] * P_coor0([x, y])\n",
    "Py = lambda x, y: -P_record_given_coor(rec0, [x, y], towers_info)[1] * P_coor0([x, y])\n",
    "gradient_descent(Px, x0, y0, iter_num)[0], gradient_descent(Py, x0, y0, iter_num)[1]"
   ]
  },
  {
   "cell_type": "code",
   "execution_count": 34,
   "metadata": {},
   "outputs": [],
   "source": [
    "def real_coor(time_step):\n",
    "    return round(real_coordinates.get('X')[time_step]), round(real_coordinates.get('Y')[time_step])\n",
    "\n",
    "def dist(coor_a, coor_b):\n",
    "    return round(np.sqrt((coor_a[0] - coor_b[0])**2 + (coor_a[1] - coor_b[1])**2))\n",
    "\n",
    "coor0_estimations = []\n",
    "coor1_estimations = []\n",
    "coor2_estimations = []\n",
    "coor3_estimations = []"
   ]
  },
  {
   "cell_type": "markdown",
   "metadata": {},
   "source": [
    "#### Estimating coordinates_0 from P(coor_0) and record_0"
   ]
  },
  {
   "cell_type": "markdown",
   "metadata": {},
   "source": [
    "In the cell below, you can see the approach for finding the argmax of P(coor_0 | record_0), which is equal to argmax of P(record_0 | coor_0) times P(coor_0).\n",
    "We are not using derivatives to find the argmax, we are actually doing it numerically by trying different coordinates and seeing which one provides the highest probability. <br>\n",
    "\n",
    "#### Recommended approach: You can use gradient descent to find the argmax of probability function, and that will give you 5 extra points."
   ]
  },
  {
   "cell_type": "code",
   "execution_count": 35,
   "metadata": {},
   "outputs": [],
   "source": [
    "# argmax P(coor_0 | record_0) = argmax P(record_0 | coor_0) P(coor_0)\n",
    "\n",
    "best_x0, best_y0 = None, None\n",
    "\n",
    "max_Px, max_Py = 0, 0\n",
    "interval, step = 120, 3\n",
    "# Larger interval and smaller step will lead to a more accurate result, but will increase computational \n",
    "# complexity deramaticly. Feel free to use other approaches like running this cell more than once and tighten\n",
    "# the searching interval with smaller steps. \n",
    "# Recommended approach: You can use gradient descent to find the argmax of probability\n",
    "# function, and that will give you 5 extra points.\n",
    "\n",
    "towers_mean_x0, towers_mean_y0 = get_mean_towers_coor(0, tower_records)\n",
    "\n",
    "for x0 in range(int(towers_mean_x0 - interval), int(towers_mean_x0 + interval), step):\n",
    "    for y0 in range(int(towers_mean_y0 - interval), int(towers_mean_y0 + interval), step):\n",
    "        \n",
    "        coor0 = (x0, y0)\n",
    "        rec0 = tower_records[0]\n",
    "        \n",
    "        P_rec0_given_x0, P_rec0_given_y0 = P_record_given_coor(rec0, coor0, towers_info)\n",
    "        p_c0 = P_coor0(coor0)\n",
    "    \n",
    "        Px = P_rec0_given_x0 * p_c0\n",
    "        Py = P_rec0_given_y0 * p_c0\n",
    "\n",
    "        if Px > max_Px:\n",
    "            best_x0 = x0\n",
    "            max_Px = Px\n",
    "\n",
    "        if Py > max_Py:\n",
    "            best_y0 = y0\n",
    "            max_Py = Py\n",
    "\n",
    "\n",
    "coor0_estimations.append((best_x0, best_y0))"
   ]
  },
  {
   "cell_type": "code",
   "execution_count": 36,
   "metadata": {},
   "outputs": [
    {
     "name": "stdout",
     "output_type": "stream",
     "text": [
      "real_coor0: (1087, -57) - Estimated_coor0: (1092, -48)\n",
      "Estimation_error: 10.0\n"
     ]
    }
   ],
   "source": [
    "print(f'real_coor0: {real_coor(0)} - Estimated_coor0: {best_x0, best_y0}')\n",
    "print(f'Estimation_error: {dist((best_x0, best_y0), real_coor(0))}')"
   ]
  },
  {
   "cell_type": "markdown",
   "metadata": {},
   "source": [
    "#### Estimating coordinates_0 and coordinates_1 from P(coor_0), record_0, and record_1<br>(4 points)"
   ]
  },
  {
   "cell_type": "code",
   "execution_count": 39,
   "metadata": {
    "collectable": true
   },
   "outputs": [],
   "source": [
    "# argmax P(coor_0 | record_0, record_1)\n",
    "# argmax P(coor_1 | coor_0, record_0, record_1)\n",
    "\n",
    "\n",
    "max_Px, max_Py = 0, 0\n",
    "interval, step = 30, 3\n",
    "\n",
    "best_x0, best_y0 = None, None\n",
    "best_x1, best_y1 = None, None\n",
    "\n",
    "towers_mean_x1, towers_mean_y1 = get_mean_towers_coor(1, tower_records)\n",
    "\n",
    "for x0 in range(int(coor0_estimations[-1][0] - interval), int(coor0_estimations[-1][0] + interval), step):\n",
    "    for y0 in range(int(coor0_estimations[-1][1] - interval), int(coor0_estimations[-1][1] + interval), step):\n",
    "        \n",
    "        for x1 in range(int(towers_mean_x1 - interval), int(towers_mean_x1 + interval), step):\n",
    "            for y1 in range(int(towers_mean_y1 - interval), int(towers_mean_y1 + interval), step):\n",
    "                # Similiar to the cell above, calculate the best estimation\n",
    "                # of coordinates_0 and coordinates_1\n",
    "                coor0 = (x0, y0)\n",
    "                coor1 = (x1, y1)\n",
    "\n",
    "                rec0 = tower_records[0]\n",
    "                rec1 = tower_records[1]\n",
    "                \n",
    "                P = np.array(P_coor0(coor0), P_coor0(coor0)) * P_record_given_coor(rec0, coor0, towers_info)\n",
    "                P *= np.array(P_coor_given_prevCoor(coor1, coor0)) * P_record_given_coor(rec1, coor1, towers_info)\n",
    "                \n",
    "                Px, Py = P\n",
    "                if Px > max_Px:\n",
    "                    best_x0 = x0\n",
    "                    best_x1 = x1\n",
    "                    max_Px = Px\n",
    "\n",
    "                if Py > max_Py:\n",
    "                    best_y0 = y0\n",
    "                    best_y1 = y1\n",
    "                    max_Py = Py\n",
    "                    \n",
    "            \n",
    "coor0_estimations.append((best_x0, best_y0))\n",
    "coor1_estimations.append((best_x1, best_y1))"
   ]
  },
  {
   "cell_type": "code",
   "execution_count": 42,
   "metadata": {},
   "outputs": [
    {
     "name": "stdout",
     "output_type": "stream",
     "text": [
      "real_coor0: (1087, -57) - Estimated_coor0: (1092, -48)\n",
      "Estimation_error: 10.0\n",
      "\n",
      "real_coor1: (1045, 72) - Estimated_coor1: (988, 70)\n",
      "Estimation_error: 57.0\n"
     ]
    }
   ],
   "source": [
    "print(f'real_coor0: {real_coor(0)} - Estimated_coor0: {best_x0, best_y0}')\n",
    "print(f'Estimation_error: {dist((best_x0, best_y0), real_coor(0))}')\n",
    "print()\n",
    "print(f'real_coor1: {real_coor(1)} - Estimated_coor1: {best_x1, best_y1}')\n",
    "print(f'Estimation_error: {dist((best_x1, best_y1), real_coor(1))}')"
   ]
  },
  {
   "cell_type": "markdown",
   "metadata": {},
   "source": [
    "#### Estimating coordinates_0, coordinates_1 and coordinates_2 from P(coor_0), record_0, record_1, and record_2 <br> (4 points)"
   ]
  },
  {
   "cell_type": "code",
   "execution_count": 43,
   "metadata": {
    "collectable": true
   },
   "outputs": [],
   "source": [
    "max_Px, max_Py = 0, 0\n",
    "interval, step = 21, 5\n",
    "\n",
    "best_x0, best_y0 = None, None\n",
    "best_x1, best_y1 = None, None\n",
    "best_x2, best_y2 = None, None\n",
    "\n",
    "towers_mean_x2, towers_mean_y2 = get_mean_towers_coor(2, tower_records)\n",
    "\n",
    "for x0 in range(int(coor0_estimations[-1][0] - interval), int(coor0_estimations[-1][0] + interval), step):\n",
    "    for y0 in range(int(coor0_estimations[-1][1] - interval), int(coor0_estimations[-1][1] + interval), step):\n",
    "        \n",
    "        for x1 in range(int(coor1_estimations[-1][0] - interval), int(coor1_estimations[-1][0] + interval), step):\n",
    "            for y1 in range(int(coor1_estimations[-1][1] - interval), int(coor1_estimations[-1][1] + interval), step):\n",
    "                \n",
    "                 for x2 in range(int(towers_mean_x2 - interval), int(towers_mean_x2 + interval), step):\n",
    "                    for y2 in range(int(towers_mean_y2 - interval), int(towers_mean_y2 + interval), step):\n",
    "                        \n",
    "                        coor0 = (x0, y0)\n",
    "                        coor1 = (x1, y1)\n",
    "                        coor2 = (x2, y2)\n",
    "\n",
    "                        rec0 = tower_records[0]\n",
    "                        rec1 = tower_records[1]\n",
    "                        rec2 = tower_records[2]\n",
    "                \n",
    "                        P = np.array(P_coor0(coor0), P_coor0(coor0)) * P_record_given_coor(rec0, coor0, towers_info)\n",
    "                        P *= np.array(P_coor_given_prevCoor(coor1, coor0)) * P_record_given_coor(rec1, coor1, towers_info)\n",
    "                        P *= np.array(P_coor_given_prevCoor(coor2, coor1)) * P_record_given_coor(rec2, coor2, towers_info)\n",
    "                \n",
    "                        Px, Py = P\n",
    "                        if Px > max_Px:\n",
    "                            best_x0 = x0\n",
    "                            best_x1 = x1\n",
    "                            best_x2 = x2\n",
    "                            max_Px = Px\n",
    "\n",
    "                        if Py > max_Py:\n",
    "                            best_y0 = y0\n",
    "                            best_y1 = y1\n",
    "                            best_y2 = y2\n",
    "                            max_Py = Py\n",
    "                    \n",
    "            \n",
    "coor0_estimations.append((best_x0, best_y0))\n",
    "coor1_estimations.append((best_x1, best_y1))\n",
    "coor2_estimations.append((best_x2, best_y2))"
   ]
  },
  {
   "cell_type": "code",
   "execution_count": 44,
   "metadata": {
    "collectable": true
   },
   "outputs": [
    {
     "name": "stdout",
     "output_type": "stream",
     "text": [
      "real_coor0: (1087, -57) - Estimated_coor0: (1091, -49)\n",
      "Estimation_error: 9.0\n",
      "\n",
      "real_coor1: (1045, 72) - Estimated_coor1: (982, 74)\n",
      "Estimation_error: 63.0\n",
      "\n",
      "real_coor2: (967, 393) - Estimated_coor2: (976, 386)\n",
      "Estimation_error: 11.0\n"
     ]
    }
   ],
   "source": [
    "print(f'real_coor0: {real_coor(0)} - Estimated_coor0: {best_x0, best_y0}')\n",
    "print(f'Estimation_error: {dist((best_x0, best_y0), real_coor(0))}')\n",
    "print()\n",
    "print(f'real_coor1: {real_coor(1)} - Estimated_coor1: {best_x1, best_y1}')\n",
    "print(f'Estimation_error: {dist((best_x1, best_y1), real_coor(1))}')\n",
    "print()\n",
    "print(f'real_coor2: {real_coor(2)} - Estimated_coor2: {best_x2, best_y2}')\n",
    "print(f'Estimation_error: {dist((best_x2, best_y2), real_coor(2))}')"
   ]
  },
  {
   "cell_type": "markdown",
   "metadata": {},
   "source": [
    "#### Estimating coordinates_0, coordinates_1, coordinates_2, and coordinates_3 from  P(coor_0), record_0, record_1, record_2, and record_3 <br> (4 points)"
   ]
  },
  {
   "cell_type": "code",
   "execution_count": 47,
   "metadata": {
    "collectable": true
   },
   "outputs": [],
   "source": [
    "max_Px, max_Py = 0, 0\n",
    "interval, step = 10, 4\n",
    "\n",
    "best_x0, best_y0 = None, None\n",
    "best_x1, best_y1 = None, None\n",
    "best_x2, best_y2 = None, None\n",
    "best_x3, best_y3 = None, None\n",
    "\n",
    "towers_mean_x3, towers_mean_y3 = get_mean_towers_coor(3, tower_records)\n",
    "\n",
    "for x0 in range(int(coor0_estimations[-1][0] - interval), int(coor0_estimations[-1][0] + interval), step):\n",
    "    for y0 in range(int(coor0_estimations[-1][1] - interval), int(coor0_estimations[-1][1] + interval), step):\n",
    "        \n",
    "        for x1 in range(int(coor1_estimations[-1][0] - interval), int(coor1_estimations[-1][0] + interval), step):\n",
    "            for y1 in range(int(coor1_estimations[-1][1] - interval), int(coor1_estimations[-1][1] + interval), step):\n",
    "                \n",
    "                 for x2 in range(int(coor2_estimations[-1][0] - interval), int(coor2_estimations[-1][0] + interval), step):\n",
    "                    for y2 in range(int(coor2_estimations[-1][1] - interval), int(coor2_estimations[-1][1] + interval), step):\n",
    "                        \n",
    "                        for x3 in range(int(towers_mean_x3 - interval), int(towers_mean_x3 + interval), step):\n",
    "                            for y3 in range(int(towers_mean_y3 - interval), int(towers_mean_y3 + interval), step):\n",
    "                        \n",
    "                        \n",
    "                                coor0 = (x0, y0)\n",
    "                                coor1 = (x1, y1)\n",
    "                                coor2 = (x2, y2)\n",
    "                                coor3 = (x3, y3)\n",
    "\n",
    "                                rec0 = tower_records[0]\n",
    "                                rec1 = tower_records[1]\n",
    "                                rec2 = tower_records[2]\n",
    "                                rec3 = tower_records[3]\n",
    "                \n",
    "                                P = np.array(P_coor0(coor0), P_coor0(coor0)) * P_record_given_coor(rec0, coor0, towers_info)\n",
    "                                P *= np.array(P_coor_given_prevCoor(coor1, coor0)) * P_record_given_coor(rec1, coor1, towers_info)\n",
    "                                P *= np.array(P_coor_given_prevCoor(coor2, coor1)) * P_record_given_coor(rec2, coor2, towers_info)\n",
    "                                P *= np.array(P_coor_given_prevCoor(coor3, coor2)) * P_record_given_coor(rec3, coor3, towers_info)\n",
    "                                \n",
    "                                Px, Py = P\n",
    "                                if Px > max_Px:\n",
    "                                    best_x0 = x0\n",
    "                                    best_x1 = x1\n",
    "                                    best_x2 = x2\n",
    "                                    best_x3 = x3\n",
    "                                    max_Px = Px\n",
    "\n",
    "                                if Py > max_Py:\n",
    "                                    best_y0 = y0\n",
    "                                    best_y1 = y1\n",
    "                                    best_y2 = y2\n",
    "                                    best_y3 = y3\n",
    "                                    max_Py = Py\n",
    "                    \n",
    "            \n",
    "coor0_estimations.append((best_x0, best_y0))\n",
    "coor1_estimations.append((best_x1, best_y1))\n",
    "coor2_estimations.append((best_x2, best_y2))\n",
    "coor3_estimations.append((best_x3, best_y3))\n",
    "\n",
    "                    "
   ]
  },
  {
   "cell_type": "code",
   "execution_count": 48,
   "metadata": {
    "collectable": true
   },
   "outputs": [
    {
     "name": "stdout",
     "output_type": "stream",
     "text": [
      "real_coor0: (1087, -57) - Estimated_coor0: (1093, -47)\n",
      "Estimation_error: 12.0\n",
      "\n",
      "real_coor1: (1045, 72) - Estimated_coor1: (984, 72)\n",
      "Estimation_error: 61.0\n",
      "\n",
      "real_coor2: (967, 393) - Estimated_coor2: (970, 388)\n",
      "Estimation_error: 6.0\n",
      "\n",
      "real_coor3: (314, 1220) - Estimated_coor3: (308, 1192)\n",
      "Estimation_error: 29.0\n"
     ]
    }
   ],
   "source": [
    "print(f'real_coor0: {real_coor(0)} - Estimated_coor0: {best_x0, best_y0}')\n",
    "print(f'Estimation_error: {dist((best_x0, best_y0), real_coor(0))}')\n",
    "print()\n",
    "print(f'real_coor1: {real_coor(1)} - Estimated_coor1: {best_x1, best_y1}')\n",
    "print(f'Estimation_error: {dist((best_x1, best_y1), real_coor(1))}')\n",
    "print()\n",
    "print(f'real_coor2: {real_coor(2)} - Estimated_coor2: {best_x2, best_y2}')\n",
    "print(f'Estimation_error: {dist((best_x2, best_y2), real_coor(2))}')\n",
    "print()\n",
    "print(f'real_coor3: {real_coor(3)} - Estimated_coor3: {best_x3, best_y3}')\n",
    "print(f'Estimation_error: {dist((best_x3, best_y3), real_coor(3))}')"
   ]
  },
  {
   "cell_type": "markdown",
   "metadata": {},
   "source": [
    "As you know from the theoretical aspect, and you can see from your results, the errors of estimations decrease when you use more records and conditional probabilities."
   ]
  },
  {
   "cell_type": "markdown",
   "metadata": {},
   "source": [
    "#### Plot curves that show using more records, leads to decrease of estimation error.<br>( 6 points)\n"
   ]
  },
  {
   "cell_type": "code",
   "execution_count": 50,
   "metadata": {
    "collectable": true
   },
   "outputs": [],
   "source": [
    "coor0_error = [dist((x0, y0), real_coor(0)) for x0, y0 in coor0_estimations]\n",
    "coor1_error = [dist((x1, y1), real_coor(1)) for x1, y1 in coor1_estimations]\n",
    "coor2_error = [dist((x2, y2), real_coor(2)) for x2, y2 in coor2_estimations]\n",
    "coor3_error = [dist((x3, y3), real_coor(3)) for x3, y3 in coor3_estimations]\n",
    "\n",
    "def plot(title, y):\n",
    "    x = [i for i in range(len(y))]\n",
    "    plt.xlabel = 'record number'\n",
    "    plt.ylabel = 'error'\n",
    "    plt.title(title)\n",
    "    plt.plot(x, y)\n",
    "    plt.show()"
   ]
  },
  {
   "cell_type": "code",
   "execution_count": 51,
   "metadata": {
    "collectable": true
   },
   "outputs": [
    {
     "data": {
      "image/png": "[encoded data removed]",
      "text/plain": [
       "<Figure size 432x288 with 1 Axes>"
      ]
     },
     "metadata": {
      "needs_background": "light"
     },
     "output_type": "display_data"
    },
    {
     "data": {
      "image/png": "[encoded data removed]",
      "text/plain": [
       "<Figure size 432x288 with 1 Axes>"
      ]
     },
     "metadata": {
      "needs_background": "light"
     },
     "output_type": "display_data"
    },
    {
     "data": {
      "image/png": "[encoded data removed]",
      "text/plain": [
       "<Figure size 432x288 with 1 Axes>"
      ]
     },
     "metadata": {
      "needs_background": "light"
     },
     "output_type": "display_data"
    },
    {
     "data": {
      "image/png": "[encoded data removed]",
      "text/plain": [
       "<Figure size 432x288 with 1 Axes>"
      ]
     },
     "metadata": {
      "needs_background": "light"
     },
     "output_type": "display_data"
    }
   ],
   "source": [
    "plot('coor0 error', coor0_error)\n",
    "plot('coor1 error', coor1_error)\n",
    "plot('coor2 error', coor2_error)\n",
    "plot('coor3 error', coor3_error)"
   ]
  }
 ],
 "metadata": {
  "interpreter": {
   "hash": "f336af7d54ba0f0c1daaf2256eb85f31e983e88153daf7a27ef3ea6c724faba4"
  },
  "kernelspec": {
   "display_name": "Python 3",
   "language": "python",
   "name": "python3"
  },
  "language_info": {
   "codemirror_mode": {
    "name": "ipython",
    "version": 3
   },
   "file_extension": ".py",
   "mimetype": "text/x-python",
   "name": "python",
   "nbconvert_exporter": "python",
   "pygments_lexer": "ipython3",
   "version": "3.8.3"
  }
 },
 "nbformat": 4,
 "nbformat_minor": 4
}
